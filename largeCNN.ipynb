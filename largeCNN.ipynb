{
  "nbformat": 4,
  "nbformat_minor": 0,
  "metadata": {
    "colab": {
      "name": "largeCNN.ipynb",
      "version": "0.3.2",
      "provenance": [],
      "collapsed_sections": [],
      "include_colab_link": true
    },
    "kernelspec": {
      "name": "python3",
      "display_name": "Python 3"
    },
    "accelerator": "GPU"
  },
  "cells": [
    {
      "cell_type": "markdown",
      "metadata": {
        "id": "view-in-github",
        "colab_type": "text"
      },
      "source": [
        "<a href=\"https://colab.research.google.com/github/narmadhaprasanth/CNN/blob/master/largeCNN.ipynb\" target=\"_parent\"><img src=\"https://colab.research.google.com/assets/colab-badge.svg\" alt=\"Open In Colab\"/></a>"
      ]
    },
    {
      "cell_type": "code",
      "metadata": {
        "id": "3hByC-5reFIA",
        "colab_type": "code",
        "colab": {}
      },
      "source": [
        "import matplotlib.pyplot as plt\n",
        "import numpy as np\n",
        "\n",
        "import torch\n",
        "import torchvision\n",
        "import torchvision.transforms as transforms\n",
        "import torch.nn as nn\n",
        "import torch.optim as optim"
      ],
      "execution_count": 0,
      "outputs": []
    },
    {
      "cell_type": "code",
      "metadata": {
        "id": "fvFZ6v5Me2d-",
        "colab_type": "code",
        "outputId": "a5b96973-1f1c-4bcb-acd6-9d015bb8c6e5",
        "colab": {
          "base_uri": "https://localhost:8080/",
          "height": 35
        }
      },
      "source": [
        "device = torch.device('cuda:0' if torch.cuda.is_available() else 'cpu')\n",
        "print(device)"
      ],
      "execution_count": 0,
      "outputs": [
        {
          "output_type": "stream",
          "text": [
            "cuda:0\n"
          ],
          "name": "stdout"
        }
      ]
    },
    {
      "cell_type": "markdown",
      "metadata": {
        "id": "ugYvgr5TfNCB",
        "colab_type": "text"
      },
      "source": [
        "#Dataset, Transforms and Visualization"
      ]
    },
    {
      "cell_type": "code",
      "metadata": {
        "id": "4xfD562MfCtd",
        "colab_type": "code",
        "colab": {}
      },
      "source": [
        "transform_train = transforms.Compose([\n",
        "                  transforms.RandomResizedCrop(224),\n",
        "                  transforms.ToTensor(),\n",
        "                  transforms.Normalize((0.5,0.5,0.5),(0.5,0.5,0.5)),\n",
        "                ])\n",
        "transform_test = transforms.Compose([\n",
        "                  transforms.RandomResizedCrop(224),\n",
        "                  transforms.ToTensor(),\n",
        "                  transforms.Normalize((0.5,0.5,0.5),(0.5,0.5,0.5)),\n",
        "                ])"
      ],
      "execution_count": 0,
      "outputs": []
    },
    {
      "cell_type": "code",
      "metadata": {
        "id": "aVHcFx8hgz9A",
        "colab_type": "code",
        "outputId": "0520a0a7-239f-4533-9b23-dfc4fc8ff71c",
        "colab": {
          "base_uri": "https://localhost:8080/",
          "height": 52
        }
      },
      "source": [
        "trainset = torchvision.datasets.CIFAR10(root='./data',train=True,\n",
        "                                       download=True,\n",
        "                                       transform=transform_train)\n",
        "testset = torchvision.datasets.CIFAR10(root='./data',train=False,\n",
        "                                       download=True,\n",
        "                                       transform=transform_test)"
      ],
      "execution_count": 0,
      "outputs": [
        {
          "output_type": "stream",
          "text": [
            "\r0it [00:00, ?it/s]"
          ],
          "name": "stderr"
        },
        {
          "output_type": "stream",
          "text": [
            "Downloading https://www.cs.toronto.edu/~kriz/cifar-10-python.tar.gz to ./data/cifar-10-python.tar.gz\n"
          ],
          "name": "stdout"
        },
        {
          "output_type": "stream",
          "text": [
            "100%|█████████▉| 170172416/170498071 [00:41<00:00, 4524749.52it/s]"
          ],
          "name": "stderr"
        },
        {
          "output_type": "stream",
          "text": [
            "Files already downloaded and verified\n"
          ],
          "name": "stdout"
        }
      ]
    },
    {
      "cell_type": "code",
      "metadata": {
        "id": "0-fNsKqMhZ_z",
        "colab_type": "code",
        "colab": {}
      },
      "source": [
        "num_classes=10"
      ],
      "execution_count": 0,
      "outputs": []
    },
    {
      "cell_type": "code",
      "metadata": {
        "id": "cTvm6QGGhgZX",
        "colab_type": "code",
        "colab": {}
      },
      "source": [
        "batch_size=4"
      ],
      "execution_count": 0,
      "outputs": []
    },
    {
      "cell_type": "code",
      "metadata": {
        "id": "BG4sq1ZVhhfn",
        "colab_type": "code",
        "colab": {}
      },
      "source": [
        "trainloader = torch.utils.data.DataLoader(trainset, batch_size=batch_size, shuffle=True)"
      ],
      "execution_count": 0,
      "outputs": []
    },
    {
      "cell_type": "code",
      "metadata": {
        "id": "uC7KTf3hhsXX",
        "colab_type": "code",
        "outputId": "c32021ff-f144-474c-8753-e0426113534b",
        "colab": {
          "base_uri": "https://localhost:8080/",
          "height": 69
        }
      },
      "source": [
        "dataiter = iter(trainloader)\n",
        "images, labels = dataiter.next()\n",
        "\n",
        "print(images.shape)\n",
        "print(images[1].shape)\n",
        "print(labels[1].item())"
      ],
      "execution_count": 0,
      "outputs": [
        {
          "output_type": "stream",
          "text": [
            "torch.Size([4, 3, 224, 224])\n",
            "torch.Size([3, 224, 224])\n",
            "1\n"
          ],
          "name": "stdout"
        }
      ]
    },
    {
      "cell_type": "code",
      "metadata": {
        "id": "4U088eePiALE",
        "colab_type": "code",
        "colab": {}
      },
      "source": [
        "def imshow(img, title):\n",
        "  npimg = img.numpy()/2 + 0.5\n",
        "  plt.figure(figsize=(batch_size,1))\n",
        "  plt.axis('off')\n",
        "  plt.imshow(np.transpose(npimg,(1,2,0)))\n",
        "  plt.title(title)\n",
        "  plt.show()"
      ],
      "execution_count": 0,
      "outputs": []
    },
    {
      "cell_type": "code",
      "metadata": {
        "id": "mfLhtJ20iyFa",
        "colab_type": "code",
        "colab": {}
      },
      "source": [
        "def show_batch_images(dataloader):\n",
        "  images, labels = next(iter(dataloader))\n",
        "  img = torchvision.utils.make_grid(images)\n",
        "  imshow(img, title=[str(x.item()) for x in labels])"
      ],
      "execution_count": 0,
      "outputs": []
    },
    {
      "cell_type": "code",
      "metadata": {
        "id": "sBbA4NZ7j2KW",
        "colab_type": "code",
        "outputId": "9b851ed1-c783-4ae0-b648-ffc5ad0b0425",
        "colab": {
          "base_uri": "https://localhost:8080/",
          "height": 421
        }
      },
      "source": [
        "for i in range(4):\n",
        "  show_batch_images(trainloader)"
      ],
      "execution_count": 0,
      "outputs": [
        {
          "output_type": "display_data",
          "data": {
            "image/png": "[encoded data removed]",
            "text/plain": [
              "<Figure size 288x72 with 1 Axes>"
            ]
          },
          "metadata": {
            "tags": []
          }
        },
        {
          "output_type": "display_data",
          "data": {
            "image/png": "[encoded data removed]",
            "text/plain": [
              "<Figure size 288x72 with 1 Axes>"
            ]
          },
          "metadata": {
            "tags": []
          }
        },
        {
          "output_type": "display_data",
          "data": {
            "image/png": "[encoded data removed]",
            "text/plain": [
              "<Figure size 288x72 with 1 Axes>"
            ]
          },
          "metadata": {
            "tags": []
          }
        },
        {
          "output_type": "display_data",
          "data": {
            "image/png": "[encoded data removed]",
            "text/plain": [
              "<Figure size 288x72 with 1 Axes>"
            ]
          },
          "metadata": {
            "tags": []
          }
        }
      ]
    },
    {
      "cell_type": "markdown",
      "metadata": {
        "id": "BDRb0vwIknq1",
        "colab_type": "text"
      },
      "source": [
        "#Create VGG16"
      ]
    },
    {
      "cell_type": "markdown",
      "metadata": {
        "id": "HSFedNcokpev",
        "colab_type": "text"
      },
      "source": [
        ""
      ]
    },
    {
      "cell_type": "code",
      "metadata": {
        "id": "Va3WpHipkAbV",
        "colab_type": "code",
        "colab": {}
      },
      "source": [
        "from torchvision import models"
      ],
      "execution_count": 0,
      "outputs": []
    },
    {
      "cell_type": "code",
      "metadata": {
        "id": "b8bqENdoktQx",
        "colab_type": "code",
        "colab": {}
      },
      "source": [
        "vgg = models.vgg16_bn() # bn- batch normalization"
      ],
      "execution_count": 0,
      "outputs": []
    },
    {
      "cell_type": "code",
      "metadata": {
        "id": "M732_coJlpf1",
        "colab_type": "code",
        "outputId": "571f38e5-788f-4e20-e6ea-338792aa6178",
        "colab": {
          "base_uri": "https://localhost:8080/",
          "height": 1019
        }
      },
      "source": [
        "print(vgg)"
      ],
      "execution_count": 0,
      "outputs": [
        {
          "output_type": "stream",
          "text": [
            "VGG(\n",
            "  (features): Sequential(\n",
            "    (0): Conv2d(3, 64, kernel_size=(3, 3), stride=(1, 1), padding=(1, 1))\n",
            "    (1): BatchNorm2d(64, eps=1e-05, momentum=0.1, affine=True, track_running_stats=True)\n",
            "    (2): ReLU(inplace)\n",
            "    (3): Conv2d(64, 64, kernel_size=(3, 3), stride=(1, 1), padding=(1, 1))\n",
            "    (4): BatchNorm2d(64, eps=1e-05, momentum=0.1, affine=True, track_running_stats=True)\n",
            "    (5): ReLU(inplace)\n",
            "    (6): MaxPool2d(kernel_size=2, stride=2, padding=0, dilation=1, ceil_mode=False)\n",
            "    (7): Conv2d(64, 128, kernel_size=(3, 3), stride=(1, 1), padding=(1, 1))\n",
            "    (8): BatchNorm2d(128, eps=1e-05, momentum=0.1, affine=True, track_running_stats=True)\n",
            "    (9): ReLU(inplace)\n",
            "    (10): Conv2d(128, 128, kernel_size=(3, 3), stride=(1, 1), padding=(1, 1))\n",
            "    (11): BatchNorm2d(128, eps=1e-05, momentum=0.1, affine=True, track_running_stats=True)\n",
            "    (12): ReLU(inplace)\n",
            "    (13): MaxPool2d(kernel_size=2, stride=2, padding=0, dilation=1, ceil_mode=False)\n",
            "    (14): Conv2d(128, 256, kernel_size=(3, 3), stride=(1, 1), padding=(1, 1))\n",
            "    (15): BatchNorm2d(256, eps=1e-05, momentum=0.1, affine=True, track_running_stats=True)\n",
            "    (16): ReLU(inplace)\n",
            "    (17): Conv2d(256, 256, kernel_size=(3, 3), stride=(1, 1), padding=(1, 1))\n",
            "    (18): BatchNorm2d(256, eps=1e-05, momentum=0.1, affine=True, track_running_stats=True)\n",
            "    (19): ReLU(inplace)\n",
            "    (20): Conv2d(256, 256, kernel_size=(3, 3), stride=(1, 1), padding=(1, 1))\n",
            "    (21): BatchNorm2d(256, eps=1e-05, momentum=0.1, affine=True, track_running_stats=True)\n",
            "    (22): ReLU(inplace)\n",
            "    (23): MaxPool2d(kernel_size=2, stride=2, padding=0, dilation=1, ceil_mode=False)\n",
            "    (24): Conv2d(256, 512, kernel_size=(3, 3), stride=(1, 1), padding=(1, 1))\n",
            "    (25): BatchNorm2d(512, eps=1e-05, momentum=0.1, affine=True, track_running_stats=True)\n",
            "    (26): ReLU(inplace)\n",
            "    (27): Conv2d(512, 512, kernel_size=(3, 3), stride=(1, 1), padding=(1, 1))\n",
            "    (28): BatchNorm2d(512, eps=1e-05, momentum=0.1, affine=True, track_running_stats=True)\n",
            "    (29): ReLU(inplace)\n",
            "    (30): Conv2d(512, 512, kernel_size=(3, 3), stride=(1, 1), padding=(1, 1))\n",
            "    (31): BatchNorm2d(512, eps=1e-05, momentum=0.1, affine=True, track_running_stats=True)\n",
            "    (32): ReLU(inplace)\n",
            "    (33): MaxPool2d(kernel_size=2, stride=2, padding=0, dilation=1, ceil_mode=False)\n",
            "    (34): Conv2d(512, 512, kernel_size=(3, 3), stride=(1, 1), padding=(1, 1))\n",
            "    (35): BatchNorm2d(512, eps=1e-05, momentum=0.1, affine=True, track_running_stats=True)\n",
            "    (36): ReLU(inplace)\n",
            "    (37): Conv2d(512, 512, kernel_size=(3, 3), stride=(1, 1), padding=(1, 1))\n",
            "    (38): BatchNorm2d(512, eps=1e-05, momentum=0.1, affine=True, track_running_stats=True)\n",
            "    (39): ReLU(inplace)\n",
            "    (40): Conv2d(512, 512, kernel_size=(3, 3), stride=(1, 1), padding=(1, 1))\n",
            "    (41): BatchNorm2d(512, eps=1e-05, momentum=0.1, affine=True, track_running_stats=True)\n",
            "    (42): ReLU(inplace)\n",
            "    (43): MaxPool2d(kernel_size=2, stride=2, padding=0, dilation=1, ceil_mode=False)\n",
            "  )\n",
            "  (avgpool): AdaptiveAvgPool2d(output_size=(7, 7))\n",
            "  (classifier): Sequential(\n",
            "    (0): Linear(in_features=25088, out_features=4096, bias=True)\n",
            "    (1): ReLU(inplace)\n",
            "    (2): Dropout(p=0.5)\n",
            "    (3): Linear(in_features=4096, out_features=4096, bias=True)\n",
            "    (4): ReLU(inplace)\n",
            "    (5): Dropout(p=0.5)\n",
            "    (6): Linear(in_features=4096, out_features=1000, bias=True)\n",
            "  )\n",
            ")\n"
          ],
          "name": "stdout"
        }
      ]
    },
    {
      "cell_type": "code",
      "metadata": {
        "id": "ODRL08IqlFEA",
        "colab_type": "code",
        "outputId": "516ac601-e6f0-4134-8e44-3d3cd52a2373",
        "colab": {
          "base_uri": "https://localhost:8080/",
          "height": 35
        }
      },
      "source": [
        "print(vgg.features[0])"
      ],
      "execution_count": 0,
      "outputs": [
        {
          "output_type": "stream",
          "text": [
            "Conv2d(3, 64, kernel_size=(3, 3), stride=(1, 1), padding=(1, 1))\n"
          ],
          "name": "stdout"
        }
      ]
    },
    {
      "cell_type": "code",
      "metadata": {
        "id": "IaTWXHFYlIpv",
        "colab_type": "code",
        "outputId": "d67e522a-4a67-410b-a7f5-21c554ae5d80",
        "colab": {
          "base_uri": "https://localhost:8080/",
          "height": 35
        }
      },
      "source": [
        "print(vgg.classifier[6])"
      ],
      "execution_count": 0,
      "outputs": [
        {
          "output_type": "stream",
          "text": [
            "Linear(in_features=4096, out_features=1000, bias=True)\n"
          ],
          "name": "stdout"
        }
      ]
    },
    {
      "cell_type": "code",
      "metadata": {
        "id": "HaBZfhYIlLp5",
        "colab_type": "code",
        "outputId": "306393d2-c385-47b5-fdf3-c7168159d883",
        "colab": {
          "base_uri": "https://localhost:8080/",
          "height": 55
        }
      },
      "source": [
        "final_in_features = vgg.classifier[6].in_features\n",
        "mod_classifier = list(vgg.classifier.children())[:-1] #mod_calssifier wil have all the children of vgg_classifier except the last one\n",
        "mod_classifier.extend([nn.Linear(final_in_features, num_classes)])\n",
        "print(mod_classifier)"
      ],
      "execution_count": 0,
      "outputs": [
        {
          "output_type": "stream",
          "text": [
            "[Linear(in_features=25088, out_features=4096, bias=True), ReLU(inplace), Dropout(p=0.5), Linear(in_features=4096, out_features=4096, bias=True), ReLU(inplace), Dropout(p=0.5), Linear(in_features=4096, out_features=10, bias=True)]\n"
          ],
          "name": "stdout"
        }
      ]
    },
    {
      "cell_type": "code",
      "metadata": {
        "id": "FxH_cTYJnhuw",
        "colab_type": "code",
        "outputId": "c03e118d-c626-427c-e014-6ccd308af183",
        "colab": {
          "base_uri": "https://localhost:8080/",
          "height": 1019
        }
      },
      "source": [
        "vgg.classifier = nn.Sequential(*mod_classifier)\n",
        "print(vgg)"
      ],
      "execution_count": 0,
      "outputs": [
        {
          "output_type": "stream",
          "text": [
            "VGG(\n",
            "  (features): Sequential(\n",
            "    (0): Conv2d(3, 64, kernel_size=(3, 3), stride=(1, 1), padding=(1, 1))\n",
            "    (1): BatchNorm2d(64, eps=1e-05, momentum=0.1, affine=True, track_running_stats=True)\n",
            "    (2): ReLU(inplace)\n",
            "    (3): Conv2d(64, 64, kernel_size=(3, 3), stride=(1, 1), padding=(1, 1))\n",
            "    (4): BatchNorm2d(64, eps=1e-05, momentum=0.1, affine=True, track_running_stats=True)\n",
            "    (5): ReLU(inplace)\n",
            "    (6): MaxPool2d(kernel_size=2, stride=2, padding=0, dilation=1, ceil_mode=False)\n",
            "    (7): Conv2d(64, 128, kernel_size=(3, 3), stride=(1, 1), padding=(1, 1))\n",
            "    (8): BatchNorm2d(128, eps=1e-05, momentum=0.1, affine=True, track_running_stats=True)\n",
            "    (9): ReLU(inplace)\n",
            "    (10): Conv2d(128, 128, kernel_size=(3, 3), stride=(1, 1), padding=(1, 1))\n",
            "    (11): BatchNorm2d(128, eps=1e-05, momentum=0.1, affine=True, track_running_stats=True)\n",
            "    (12): ReLU(inplace)\n",
            "    (13): MaxPool2d(kernel_size=2, stride=2, padding=0, dilation=1, ceil_mode=False)\n",
            "    (14): Conv2d(128, 256, kernel_size=(3, 3), stride=(1, 1), padding=(1, 1))\n",
            "    (15): BatchNorm2d(256, eps=1e-05, momentum=0.1, affine=True, track_running_stats=True)\n",
            "    (16): ReLU(inplace)\n",
            "    (17): Conv2d(256, 256, kernel_size=(3, 3), stride=(1, 1), padding=(1, 1))\n",
            "    (18): BatchNorm2d(256, eps=1e-05, momentum=0.1, affine=True, track_running_stats=True)\n",
            "    (19): ReLU(inplace)\n",
            "    (20): Conv2d(256, 256, kernel_size=(3, 3), stride=(1, 1), padding=(1, 1))\n",
            "    (21): BatchNorm2d(256, eps=1e-05, momentum=0.1, affine=True, track_running_stats=True)\n",
            "    (22): ReLU(inplace)\n",
            "    (23): MaxPool2d(kernel_size=2, stride=2, padding=0, dilation=1, ceil_mode=False)\n",
            "    (24): Conv2d(256, 512, kernel_size=(3, 3), stride=(1, 1), padding=(1, 1))\n",
            "    (25): BatchNorm2d(512, eps=1e-05, momentum=0.1, affine=True, track_running_stats=True)\n",
            "    (26): ReLU(inplace)\n",
            "    (27): Conv2d(512, 512, kernel_size=(3, 3), stride=(1, 1), padding=(1, 1))\n",
            "    (28): BatchNorm2d(512, eps=1e-05, momentum=0.1, affine=True, track_running_stats=True)\n",
            "    (29): ReLU(inplace)\n",
            "    (30): Conv2d(512, 512, kernel_size=(3, 3), stride=(1, 1), padding=(1, 1))\n",
            "    (31): BatchNorm2d(512, eps=1e-05, momentum=0.1, affine=True, track_running_stats=True)\n",
            "    (32): ReLU(inplace)\n",
            "    (33): MaxPool2d(kernel_size=2, stride=2, padding=0, dilation=1, ceil_mode=False)\n",
            "    (34): Conv2d(512, 512, kernel_size=(3, 3), stride=(1, 1), padding=(1, 1))\n",
            "    (35): BatchNorm2d(512, eps=1e-05, momentum=0.1, affine=True, track_running_stats=True)\n",
            "    (36): ReLU(inplace)\n",
            "    (37): Conv2d(512, 512, kernel_size=(3, 3), stride=(1, 1), padding=(1, 1))\n",
            "    (38): BatchNorm2d(512, eps=1e-05, momentum=0.1, affine=True, track_running_stats=True)\n",
            "    (39): ReLU(inplace)\n",
            "    (40): Conv2d(512, 512, kernel_size=(3, 3), stride=(1, 1), padding=(1, 1))\n",
            "    (41): BatchNorm2d(512, eps=1e-05, momentum=0.1, affine=True, track_running_stats=True)\n",
            "    (42): ReLU(inplace)\n",
            "    (43): MaxPool2d(kernel_size=2, stride=2, padding=0, dilation=1, ceil_mode=False)\n",
            "  )\n",
            "  (avgpool): AdaptiveAvgPool2d(output_size=(7, 7))\n",
            "  (classifier): Sequential(\n",
            "    (0): Linear(in_features=25088, out_features=4096, bias=True)\n",
            "    (1): ReLU(inplace)\n",
            "    (2): Dropout(p=0.5)\n",
            "    (3): Linear(in_features=4096, out_features=4096, bias=True)\n",
            "    (4): ReLU(inplace)\n",
            "    (5): Dropout(p=0.5)\n",
            "    (6): Linear(in_features=4096, out_features=10, bias=True)\n",
            "  )\n",
            ")\n"
          ],
          "name": "stdout"
        }
      ]
    },
    {
      "cell_type": "markdown",
      "metadata": {
        "id": "gS-8yQlh-bLQ",
        "colab_type": "text"
      },
      "source": [
        "#Train CIFAR10"
      ]
    },
    {
      "cell_type": "code",
      "metadata": {
        "id": "gUYPWOGK63tf",
        "colab_type": "code",
        "colab": {}
      },
      "source": [
        "batch_size = 16\n",
        "trainloader = torch.utils.data.DataLoader(trainset, batch_size=batch_size, shuffle=True)\n",
        "testloader = torch.utils.data.DataLoader(testset, batch_size=batch_size, shuffle=True)"
      ],
      "execution_count": 0,
      "outputs": []
    },
    {
      "cell_type": "code",
      "metadata": {
        "id": "vvJxB2T5_TGh",
        "colab_type": "code",
        "colab": {}
      },
      "source": [
        "def evaluation(dataloader, model):\n",
        "  total, correct = 0,0\n",
        "  for data in dataloader:\n",
        "    inputs, labels = data\n",
        "    inputs, labels = inputs.to(device), labels.to(device)\n",
        "    outputs = model(inputs)\n",
        "    _, pred = torch.max(outputs.data, 1)\n",
        "    total +=labels.size(0)\n",
        "    correct += (pred == labels).sum().item()\n",
        "    return 100*correct/total"
      ],
      "execution_count": 0,
      "outputs": []
    },
    {
      "cell_type": "code",
      "metadata": {
        "id": "VZWobsRcASDy",
        "colab_type": "code",
        "colab": {}
      },
      "source": [
        "vgg = vgg.to(device)\n",
        "loss_fn = nn.CrossEntropyLoss()\n",
        "opt = optim.SGD(vgg.parameters(), lr=0.05)"
      ],
      "execution_count": 0,
      "outputs": []
    },
    {
      "cell_type": "code",
      "metadata": {
        "id": "r_iEw-5tAr74",
        "colab_type": "code",
        "outputId": "67eefcb9-1da2-4395-94d3-90d77f8a91bc",
        "colab": {
          "base_uri": "https://localhost:8080/",
          "height": 805
        }
      },
      "source": [
        "loss_epoch_arr = []\n",
        "max_epochs = 1\n",
        "n_iters = np.ceil(50000/batch_size)\n",
        "\n",
        "for epoch in range(max_epochs):\n",
        "  for i,data in enumerate(trainloader, 0):\n",
        "    \n",
        "    inputs, labels = data\n",
        "    inputs, labels = inputs.to(device), labels.to(device)\n",
        "    \n",
        "    opt.zero_grad()\n",
        "    \n",
        "    outputs = vgg(inputs)\n",
        "    loss = loss_fn(outputs, labels)\n",
        "    loss.backward()\n",
        "    opt.step()\n",
        "    \n",
        "    del inputs, outputs, labels\n",
        "    torch.cuda.empty_cache()\n",
        "    \n",
        "    if i%100 == 0:\n",
        "      print('Iteration: %d/%d, loss=%0.2f' %(i, n_iters, loss.item()))\n",
        "    \n",
        "  loss_epoch_arr.append(loss.item())\n",
        "    \n",
        "  print('Epoch: %d/%dTest_accu:%0.2f Train_accu:%0.2f' %(epoch, max_epochs, \n",
        "                                                        evaluation(testloader, vgg),\n",
        "                                                        evaluation(trainloader, vgg)))\n",
        "\n",
        "plt.plot(loss_epoch_arr)\n",
        "plt.show()\n",
        "    "
      ],
      "execution_count": 0,
      "outputs": [
        {
          "output_type": "stream",
          "text": [
            "Iteration: 0/3125, loss=11.84\n",
            "Iteration: 100/3125, loss=6.25\n",
            "Iteration: 200/3125, loss=2.37\n",
            "Iteration: 300/3125, loss=2.24\n",
            "Iteration: 400/3125, loss=2.31\n",
            "Iteration: 500/3125, loss=2.17\n",
            "Iteration: 600/3125, loss=2.30\n",
            "Iteration: 700/3125, loss=2.24\n",
            "Iteration: 800/3125, loss=2.34\n",
            "Iteration: 900/3125, loss=3.35\n",
            "Iteration: 1000/3125, loss=2.31\n",
            "Iteration: 1100/3125, loss=2.30\n",
            "Iteration: 1200/3125, loss=2.30\n",
            "Iteration: 1300/3125, loss=2.31\n",
            "Iteration: 1400/3125, loss=2.30\n",
            "Iteration: 1500/3125, loss=2.31\n",
            "Iteration: 1600/3125, loss=2.29\n",
            "Iteration: 1700/3125, loss=2.34\n",
            "Iteration: 1800/3125, loss=2.31\n",
            "Iteration: 1900/3125, loss=2.28\n",
            "Iteration: 2000/3125, loss=2.28\n",
            "Iteration: 2100/3125, loss=2.30\n",
            "Iteration: 2200/3125, loss=2.29\n",
            "Iteration: 2300/3125, loss=2.31\n",
            "Iteration: 2400/3125, loss=2.30\n",
            "Iteration: 2500/3125, loss=2.32\n",
            "Iteration: 2600/3125, loss=2.40\n",
            "Iteration: 2700/3125, loss=2.31\n",
            "Iteration: 2800/3125, loss=2.37\n",
            "Iteration: 2900/3125, loss=2.33\n",
            "Iteration: 3000/3125, loss=2.31\n",
            "Iteration: 3100/3125, loss=2.30\n",
            "Epoch: 0/1Test_accu:18.75 Train_accu:12.50\n"
          ],
          "name": "stdout"
        },
        {
          "output_type": "error",
          "ename": "NameError",
          "evalue": "ignored",
          "traceback": [
            "\u001b[0;31m---------------------------------------------------------------------------\u001b[0m",
            "\u001b[0;31mNameError\u001b[0m                                 Traceback (most recent call last)",
            "\u001b[0;32m<ipython-input-31-bbfae6acbf30>\u001b[0m in \u001b[0;36m<module>\u001b[0;34m()\u001b[0m\n\u001b[1;32m     28\u001b[0m                                                         evaluation(trainloader, vgg)))\n\u001b[1;32m     29\u001b[0m \u001b[0;34m\u001b[0m\u001b[0m\n\u001b[0;32m---> 30\u001b[0;31m \u001b[0mplt\u001b[0m\u001b[0;34m.\u001b[0m\u001b[0mplot\u001b[0m\u001b[0;34m(\u001b[0m\u001b[0mmax_epoch_arr\u001b[0m\u001b[0;34m)\u001b[0m\u001b[0;34m\u001b[0m\u001b[0;34m\u001b[0m\u001b[0m\n\u001b[0m\u001b[1;32m     31\u001b[0m \u001b[0mplt\u001b[0m\u001b[0;34m.\u001b[0m\u001b[0mshow\u001b[0m\u001b[0;34m(\u001b[0m\u001b[0;34m)\u001b[0m\u001b[0;34m\u001b[0m\u001b[0;34m\u001b[0m\u001b[0m\n\u001b[1;32m     32\u001b[0m \u001b[0;34m\u001b[0m\u001b[0m\n",
            "\u001b[0;31mNameError\u001b[0m: name 'max_epoch_arr' is not defined"
          ]
        }
      ]
    },
    {
      "cell_type": "markdown",
      "metadata": {
        "id": "sBy4VRhvEuhu",
        "colab_type": "text"
      },
      "source": [
        "#Freeze layers of convulution models\n"
      ]
    },
    {
      "cell_type": "code",
      "metadata": {
        "id": "N6AU4ToMBHPY",
        "colab_type": "code",
        "colab": {}
      },
      "source": [
        "batch_size = 16\n",
        "trainloader = torch.utils.data.DataLoader(trainset, batch_size=batch_size, shuffle=True)\n",
        "testloader = torch.utils.data.DataLoader(testset, batch_size=batch_size, shuffle=True)"
      ],
      "execution_count": 0,
      "outputs": []
    },
    {
      "cell_type": "code",
      "metadata": {
        "id": "ApyG6w63ExYN",
        "colab_type": "code",
        "outputId": "8b60754a-a4fb-44ad-e4ec-084a341b1cc9",
        "colab": {
          "base_uri": "https://localhost:8080/",
          "height": 3455
        }
      },
      "source": [
        "vgg = models.vgg16_bn(pretrained=True)"
      ],
      "execution_count": 0,
      "outputs": [
        {
          "output_type": "stream",
          "text": [
            "Downloading: \"https://download.pytorch.org/models/vgg16_bn-6c64b313.pth\" to /root/.cache/torch/checkpoints/vgg16_bn-6c64b313.pth\n",
            "\n",
            "  0%|          | 0/553507836 [00:00<?, ?it/s]\u001b[A\n",
            "  0%|          | 1417216/553507836 [00:00<00:39, 14115030.91it/s]\u001b[A\n",
            "  1%|          | 5332992/553507836 [00:00<00:31, 17429335.32it/s]\u001b[A\n",
            "  1%|▏         | 8085504/553507836 [00:00<00:27, 19559955.97it/s]\u001b[A\n",
            "  2%|▏         | 10641408/553507836 [00:00<00:26, 20795755.25it/s]\u001b[A\n",
            "  2%|▏         | 13590528/553507836 [00:00<00:23, 22758422.77it/s]\u001b[A\n",
            "  3%|▎         | 16474112/553507836 [00:00<00:22, 24226236.23it/s]\u001b[A\n",
            "  3%|▎         | 19292160/553507836 [00:00<00:21, 25192231.49it/s]\u001b[A\n",
            "  4%|▍         | 22306816/553507836 [00:00<00:20, 26432364.17it/s]\u001b[A\n",
            "  5%|▍         | 24993792/553507836 [00:00<00:19, 26446823.29it/s]\u001b[A\n",
            "  5%|▌         | 27746304/553507836 [00:01<00:19, 26543257.27it/s]\u001b[A\n",
            "  6%|▌         | 30564352/553507836 [00:01<00:19, 26975464.52it/s]\u001b[A\n",
            "  6%|▌         | 33579008/553507836 [00:01<00:18, 27816746.63it/s]\u001b[A\n",
            "  7%|▋         | 36397056/553507836 [00:01<00:18, 27700827.63it/s]\u001b[A\n",
            "  7%|▋         | 39182336/553507836 [00:01<00:18, 27307839.34it/s]\u001b[A\n",
            "  8%|▊         | 42033152/553507836 [00:01<00:18, 27572570.10it/s]\u001b[A\n",
            "  8%|▊         | 44802048/553507836 [00:01<00:18, 27283622.94it/s]\u001b[A\n",
            "  9%|▊         | 47702016/553507836 [00:01<00:18, 27771999.66it/s]\u001b[A\n",
            "  9%|▉         | 50487296/553507836 [00:01<00:18, 27754555.15it/s]\u001b[A\n",
            " 10%|▉         | 53272576/553507836 [00:01<00:18, 27100856.65it/s]\u001b[A\n",
            " 10%|█         | 56139776/553507836 [00:02<00:18, 27553427.55it/s]\u001b[A\n",
            " 11%|█         | 58941440/553507836 [00:02<00:17, 27654029.47it/s]\u001b[A\n",
            " 11%|█         | 61718528/553507836 [00:02<00:17, 27386711.88it/s]\u001b[A\n",
            " 12%|█▏        | 64577536/553507836 [00:02<00:17, 27708097.71it/s]\u001b[A\n",
            " 12%|█▏        | 67395584/553507836 [00:02<00:17, 27714531.02it/s]\u001b[A\n",
            " 13%|█▎        | 70344704/553507836 [00:02<00:17, 28090086.03it/s]\u001b[A\n",
            " 13%|█▎        | 73162752/553507836 [00:02<00:17, 27360659.73it/s]\u001b[A\n",
            " 14%|█▎        | 75907072/553507836 [00:02<00:17, 27070169.78it/s]\u001b[A\n",
            " 14%|█▍        | 78626816/553507836 [00:02<00:17, 26943025.80it/s]\u001b[A\n",
            " 15%|█▍        | 81485824/553507836 [00:02<00:17, 27277652.98it/s]\u001b[A\n",
            " 15%|█▌        | 84221952/553507836 [00:03<00:17, 26910778.86it/s]\u001b[A\n",
            " 16%|█▌        | 87056384/553507836 [00:03<00:17, 27233747.79it/s]\u001b[A\n",
            " 16%|█▌        | 89939968/553507836 [00:03<00:16, 27584291.98it/s]\u001b[A\n",
            " 17%|█▋        | 92708864/553507836 [00:03<00:17, 27052004.11it/s]\u001b[A\n",
            " 17%|█▋        | 95510528/553507836 [00:03<00:16, 27185791.03it/s]\u001b[A\n",
            " 18%|█▊        | 98459648/553507836 [00:03<00:16, 27728190.99it/s]\u001b[A\n",
            "170500096it [01:00, 4524749.52it/s]                               \n",
            " 19%|█▉        | 103981056/553507836 [00:03<00:16, 26481695.22it/s]\u001b[A\n",
            " 19%|█▉        | 106717184/553507836 [00:03<00:16, 26705197.65it/s]\u001b[A\n",
            " 20%|█▉        | 109535232/553507836 [00:04<00:16, 27034394.12it/s]\u001b[A\n",
            " 20%|██        | 112246784/553507836 [00:04<00:16, 27050116.20it/s]\u001b[A\n",
            " 21%|██        | 114958336/553507836 [00:04<00:16, 26978036.46it/s]\u001b[A\n",
            " 21%|██▏       | 117727232/553507836 [00:04<00:16, 27125088.60it/s]\u001b[A\n",
            " 22%|██▏       | 120561664/553507836 [00:04<00:15, 27476907.29it/s]\u001b[A\n",
            " 22%|██▏       | 123314176/553507836 [00:04<00:15, 27330810.89it/s]\u001b[A\n",
            " 23%|██▎       | 126115840/553507836 [00:04<00:15, 27421760.36it/s]\u001b[A\n",
            " 23%|██▎       | 128860160/553507836 [00:04<00:15, 27134556.67it/s]\u001b[A\n",
            " 24%|██▍       | 131620864/553507836 [00:04<00:15, 27226888.06it/s]\u001b[A\n",
            " 24%|██▍       | 134373376/553507836 [00:04<00:15, 27200574.29it/s]\u001b[A\n",
            " 25%|██▍       | 137256960/553507836 [00:05<00:15, 27550120.67it/s]\u001b[A\n",
            " 25%|██▌       | 140206080/553507836 [00:05<00:14, 27950739.58it/s]\u001b[A\n",
            " 26%|██▌       | 143007744/553507836 [00:05<00:14, 27631583.91it/s]\u001b[A\n",
            " 26%|██▋       | 145842176/553507836 [00:05<00:14, 27777764.49it/s]\u001b[A\n",
            " 27%|██▋       | 148627456/553507836 [00:05<00:14, 27657485.36it/s]\u001b[A\n",
            " 27%|██▋       | 151396352/553507836 [00:05<00:14, 27595829.00it/s]\u001b[A\n",
            " 28%|██▊       | 154329088/553507836 [00:05<00:14, 28089417.75it/s]\u001b[A\n",
            " 28%|██▊       | 157147136/553507836 [00:05<00:14, 27733242.97it/s]\u001b[A\n",
            " 29%|██▉       | 160071680/553507836 [00:05<00:14, 28014837.91it/s]\u001b[A\n",
            " 29%|██▉       | 162881536/553507836 [00:05<00:15, 25965746.48it/s]\u001b[A\n",
            " 30%|██▉       | 165511168/553507836 [00:06<00:24, 15644077.46it/s]\u001b[A\n",
            " 30%|███       | 168255488/553507836 [00:06<00:21, 17940279.75it/s]\u001b[A\n",
            " 31%|███       | 171008000/553507836 [00:06<00:19, 20022414.89it/s]\u001b[A\n",
            " 31%|███▏      | 173760512/553507836 [00:06<00:17, 21666901.70it/s]\u001b[A\n",
            " 32%|███▏      | 176709632/553507836 [00:06<00:16, 23474173.72it/s]\u001b[A\n",
            " 32%|███▏      | 179339264/553507836 [00:06<00:15, 24243588.30it/s]\u001b[A\n",
            " 33%|███▎      | 182214656/553507836 [00:06<00:14, 25310721.24it/s]\u001b[A\n",
            " 33%|███▎      | 184967168/553507836 [00:06<00:14, 25860596.66it/s]\u001b[A\n",
            " 34%|███▍      | 187981824/553507836 [00:07<00:13, 26882976.10it/s]\u001b[A\n",
            " 34%|███▍      | 190799872/553507836 [00:07<00:13, 26881860.21it/s]\u001b[A\n",
            " 35%|███▌      | 193814528/553507836 [00:07<00:12, 27692350.47it/s]\u001b[A\n",
            " 36%|███▌      | 196632576/553507836 [00:07<00:12, 27779034.34it/s]\u001b[A\n",
            " 36%|███▌      | 199516160/553507836 [00:07<00:12, 28074598.52it/s]\u001b[A\n",
            " 37%|███▋      | 202350592/553507836 [00:07<00:12, 27679660.36it/s]\u001b[A\n",
            " 37%|███▋      | 205144064/553507836 [00:07<00:12, 27364611.34it/s]\u001b[A\n",
            " 38%|███▊      | 207904768/553507836 [00:07<00:12, 27077938.15it/s]\u001b[A\n",
            " 38%|███▊      | 210853888/553507836 [00:07<00:12, 27748350.78it/s]\u001b[A\n",
            " 39%|███▊      | 213737472/553507836 [00:08<00:12, 28025196.39it/s]\u001b[A\n",
            " 39%|███▉      | 216555520/553507836 [00:08<00:12, 26678117.12it/s]\u001b[A\n",
            " 40%|███▉      | 219570176/553507836 [00:08<00:12, 27617737.42it/s]\u001b[A\n",
            " 40%|████      | 222453760/553507836 [00:08<00:11, 27909374.40it/s]\u001b[A\n",
            " 41%|████      | 225263616/553507836 [00:08<00:11, 27524069.42it/s]\u001b[A\n",
            " 41%|████      | 228155392/553507836 [00:08<00:11, 27912967.32it/s]\u001b[A\n",
            " 42%|████▏     | 230957056/553507836 [00:08<00:11, 27597214.04it/s]\u001b[A\n",
            " 42%|████▏     | 233725952/553507836 [00:08<00:12, 24960368.90it/s]\u001b[A\n",
            " 43%|████▎     | 236347392/553507836 [00:08<00:12, 25258113.72it/s]\u001b[A\n",
            " 43%|████▎     | 239230976/553507836 [00:08<00:12, 25764123.57it/s]\u001b[A\n",
            " 44%|████▎     | 242114560/553507836 [00:09<00:11, 26473537.43it/s]\u001b[A\n",
            " 44%|████▍     | 244932608/553507836 [00:09<00:11, 26904023.33it/s]\u001b[A\n",
            " 45%|████▍     | 247750656/553507836 [00:09<00:11, 27157664.57it/s]\u001b[A\n",
            " 45%|████▌     | 250634240/553507836 [00:09<00:10, 27549870.56it/s]\u001b[A\n",
            " 46%|████▌     | 253403136/553507836 [00:09<00:11, 26910805.95it/s]\u001b[A\n",
            " 46%|████▋     | 256139264/553507836 [00:09<00:11, 26404915.60it/s]\u001b[A\n",
            " 47%|████▋     | 259022848/553507836 [00:09<00:10, 27042275.91it/s]\u001b[A\n",
            " 47%|████▋     | 261742592/553507836 [00:09<00:10, 26653727.14it/s]\u001b[A\n",
            " 48%|████▊     | 264421376/553507836 [00:09<00:10, 26581252.23it/s]\u001b[A\n",
            " 48%|████▊     | 267280384/553507836 [00:10<00:10, 27144998.96it/s]\u001b[A\n",
            " 49%|████▉     | 270172160/553507836 [00:10<00:10, 27481573.36it/s]\u001b[A\n",
            " 49%|████▉     | 272932864/553507836 [00:10<00:10, 27220438.40it/s]\u001b[A\n",
            " 50%|████▉     | 275800064/553507836 [00:10<00:10, 27533435.75it/s]\u001b[A\n",
            " 50%|█████     | 278683648/553507836 [00:10<00:09, 27872700.26it/s]\u001b[A\n",
            " 51%|█████     | 281477120/553507836 [00:10<00:09, 27654530.53it/s]\u001b[A\n",
            " 51%|█████▏    | 284246016/553507836 [00:10<00:09, 27439898.55it/s]\u001b[A\n",
            " 52%|█████▏    | 286998528/553507836 [00:10<00:09, 26989782.17it/s]\u001b[A\n",
            " 52%|█████▏    | 289890304/553507836 [00:10<00:09, 27477355.08it/s]\u001b[A\n",
            " 53%|█████▎    | 292642816/553507836 [00:10<00:09, 27487924.33it/s]\u001b[A\n",
            " 53%|█████▎    | 295591936/553507836 [00:11<00:09, 27925818.42it/s]\u001b[A\n",
            " 54%|█████▍    | 298393600/553507836 [00:11<00:09, 27826061.67it/s]\u001b[A\n",
            " 54%|█████▍    | 301195264/553507836 [00:11<00:09, 27878485.32it/s]\u001b[A\n",
            " 55%|█████▍    | 303988736/553507836 [00:11<00:09, 27274679.40it/s]\u001b[A\n",
            " 55%|█████▌    | 306724864/553507836 [00:11<00:09, 27129358.16it/s]\u001b[A\n",
            " 56%|█████▌    | 309616640/553507836 [00:11<00:08, 27499105.04it/s]\u001b[A\n",
            " 56%|█████▋    | 312377344/553507836 [00:11<00:09, 26480889.80it/s]\u001b[A\n",
            " 57%|█████▋    | 315039744/553507836 [00:11<00:09, 26037607.53it/s]\u001b[A\n",
            " 57%|█████▋    | 317808640/553507836 [00:11<00:08, 26359186.55it/s]\u001b[A\n",
            " 58%|█████▊    | 320454656/553507836 [00:11<00:08, 26127081.25it/s]\u001b[A\n",
            " 58%|█████▊    | 323076096/553507836 [00:12<00:08, 26122279.96it/s]\u001b[A\n",
            " 59%|█████▉    | 325804032/553507836 [00:12<00:08, 26312155.54it/s]\u001b[A\n",
            " 59%|█████▉    | 328687616/553507836 [00:12<00:08, 26962053.07it/s]\u001b[A\n",
            " 60%|█████▉    | 331554816/553507836 [00:12<00:08, 27444555.61it/s]\u001b[A\n",
            " 60%|██████    | 334454784/553507836 [00:12<00:07, 27875619.75it/s]\u001b[A\n",
            " 61%|██████    | 337281024/553507836 [00:12<00:07, 27951301.95it/s]\u001b[A\n",
            " 61%|██████▏   | 340115456/553507836 [00:12<00:07, 28062918.11it/s]\u001b[A\n",
            " 62%|██████▏   | 343040000/553507836 [00:12<00:07, 28340474.10it/s]\u001b[A\n",
            " 62%|██████▏   | 345882624/553507836 [00:12<00:07, 27632998.74it/s]\u001b[A\n",
            " 63%|██████▎   | 348700672/553507836 [00:12<00:07, 27794455.22it/s]\u001b[A\n",
            " 64%|██████▎   | 351559680/553507836 [00:13<00:07, 27954640.79it/s]\u001b[A\n",
            " 64%|██████▍   | 354443264/553507836 [00:13<00:07, 28185036.20it/s]\u001b[A\n",
            " 65%|██████▍   | 357269504/553507836 [00:13<00:07, 27906588.67it/s]\u001b[A\n",
            " 65%|██████▌   | 360062976/553507836 [00:13<00:06, 27862236.55it/s]\u001b[A\n",
            " 66%|██████▌   | 362856448/553507836 [00:13<00:06, 27806227.81it/s]\u001b[A\n",
            " 66%|██████▌   | 365641728/553507836 [00:13<00:06, 27224791.02it/s]\u001b[A\n",
            " 67%|██████▋   | 368558080/553507836 [00:13<00:06, 27749554.19it/s]\u001b[A\n",
            " 67%|██████▋   | 371343360/553507836 [00:13<00:06, 27369813.17it/s]\u001b[A\n",
            " 68%|██████▊   | 374104064/553507836 [00:13<00:06, 27420792.30it/s]\u001b[A\n",
            " 68%|██████▊   | 376856576/553507836 [00:14<00:06, 26739886.09it/s]\u001b[A\n",
            " 69%|██████▊   | 379543552/553507836 [00:14<00:06, 26751264.28it/s]\u001b[A\n",
            " 69%|██████▉   | 382369792/553507836 [00:14<00:06, 27181645.50it/s]\u001b[A\n",
            " 70%|██████▉   | 385097728/553507836 [00:14<00:06, 26766416.41it/s]\u001b[A\n",
            " 70%|███████   | 387866624/553507836 [00:14<00:06, 27014271.97it/s]\u001b[A\n",
            " 71%|███████   | 390815744/553507836 [00:14<00:05, 27663975.39it/s]\u001b[A\n",
            " 71%|███████   | 393592832/553507836 [00:14<00:05, 27318966.11it/s]\u001b[A\n",
            " 72%|███████▏  | 396517376/553507836 [00:14<00:05, 27733887.28it/s]\u001b[A\n",
            " 72%|███████▏  | 399400960/553507836 [00:14<00:05, 28008755.93it/s]\u001b[A\n",
            " 73%|███████▎  | 402210816/553507836 [00:14<00:05, 27358362.54it/s]\u001b[A\n",
            " 73%|███████▎  | 404955136/553507836 [00:15<00:05, 27349919.10it/s]\u001b[A\n",
            " 74%|███████▎  | 407789568/553507836 [00:15<00:05, 27564437.68it/s]\u001b[A\n",
            " 74%|███████▍  | 410550272/553507836 [00:15<00:05, 25061717.85it/s]\u001b[A\n",
            " 75%|███████▍  | 413360128/553507836 [00:15<00:05, 25875269.25it/s]\u001b[A\n",
            " 75%|███████▌  | 415989760/553507836 [00:15<00:08, 16801580.93it/s]\u001b[A\n",
            " 76%|███████▌  | 421634048/553507836 [00:15<00:06, 21247230.41it/s]\u001b[A\n",
            " 77%|███████▋  | 424787968/553507836 [00:15<00:05, 22654067.84it/s]\u001b[A\n",
            " 77%|███████▋  | 427802624/553507836 [00:15<00:05, 24020965.53it/s]\u001b[A\n",
            " 78%|███████▊  | 430751744/553507836 [00:16<00:04, 24701240.17it/s]\u001b[A\n",
            " 78%|███████▊  | 433627136/553507836 [00:16<00:04, 25648918.65it/s]\u001b[A\n",
            " 79%|███████▉  | 436576256/553507836 [00:16<00:04, 26586617.15it/s]\u001b[A\n",
            " 79%|███████▉  | 439443456/553507836 [00:16<00:04, 26563333.50it/s]\u001b[A\n",
            " 80%|███████▉  | 442245120/553507836 [00:16<00:04, 26888968.70it/s]\u001b[A\n",
            " 80%|████████  | 445038592/553507836 [00:16<00:04, 26487512.66it/s]\u001b[A\n",
            " 81%|████████  | 447963136/553507836 [00:16<00:03, 27257437.28it/s]\u001b[A\n",
            " 81%|████████▏ | 450748416/553507836 [00:16<00:03, 27406642.44it/s]\u001b[A\n",
            " 82%|████████▏ | 453533696/553507836 [00:16<00:03, 27189799.01it/s]\u001b[A\n",
            " 82%|████████▏ | 456310784/553507836 [00:17<00:03, 27233666.55it/s]\u001b[A\n",
            " 83%|████████▎ | 459120640/553507836 [00:17<00:03, 27471161.18it/s]\u001b[A\n",
            " 83%|████████▎ | 462004224/553507836 [00:17<00:03, 27784596.74it/s]\u001b[A\n",
            " 84%|████████▍ | 464830464/553507836 [00:17<00:03, 27923359.37it/s]\u001b[A\n",
            " 84%|████████▍ | 467640320/553507836 [00:17<00:03, 27839537.38it/s]\u001b[A\n",
            " 85%|████████▌ | 470523904/553507836 [00:17<00:02, 28092886.90it/s]\u001b[A\n",
            " 86%|████████▌ | 473407488/553507836 [00:17<00:02, 28289995.34it/s]\u001b[A\n",
            " 86%|████████▌ | 476291072/553507836 [00:17<00:02, 28430988.44it/s]\u001b[A\n",
            " 87%|████████▋ | 479174656/553507836 [00:17<00:02, 28513693.75it/s]\u001b[A\n",
            " 87%|████████▋ | 482033664/553507836 [00:17<00:02, 28176702.65it/s]\u001b[A\n",
            " 88%|████████▊ | 484941824/553507836 [00:18<00:02, 28346693.16it/s]\u001b[A\n",
            " 88%|████████▊ | 487825408/553507836 [00:18<00:02, 28356643.04it/s]\u001b[A\n",
            " 89%|████████▊ | 490774528/553507836 [00:18<00:02, 28608483.76it/s]\u001b[A\n",
            " 89%|████████▉ | 493641728/553507836 [00:18<00:02, 28560352.35it/s]\u001b[A\n",
            " 90%|████████▉ | 496500736/553507836 [00:18<00:01, 28565801.43it/s]\u001b[A\n",
            " 90%|█████████ | 499458048/553507836 [00:18<00:01, 28857321.12it/s]\u001b[A\n",
            " 91%|█████████ | 502374400/553507836 [00:18<00:01, 28778393.61it/s]\u001b[A\n",
            " 91%|█████████▏| 505257984/553507836 [00:18<00:01, 27969097.14it/s]\u001b[A\n",
            " 92%|█████████▏| 508076032/553507836 [00:18<00:01, 27926777.62it/s]\u001b[A\n",
            " 92%|█████████▏| 510959616/553507836 [00:18<00:01, 28097285.78it/s]\u001b[A\n",
            " 93%|█████████▎| 513777664/553507836 [00:19<00:01, 28071287.38it/s]\u001b[A\n",
            " 93%|█████████▎| 516587520/553507836 [00:19<00:01, 28002213.21it/s]\u001b[A\n",
            " 94%|█████████▍| 519479296/553507836 [00:19<00:01, 28229326.30it/s]\u001b[A\n",
            " 94%|█████████▍| 522305536/553507836 [00:19<00:01, 27809303.94it/s]\u001b[A\n",
            " 95%|█████████▍| 525090816/553507836 [00:19<00:01, 27645192.87it/s]\u001b[A\n",
            " 95%|█████████▌| 527933440/553507836 [00:19<00:00, 27822029.38it/s]\u001b[A\n",
            " 96%|█████████▌| 530759680/553507836 [00:19<00:00, 27937443.38it/s]\u001b[A\n",
            " 96%|█████████▋| 533569536/553507836 [00:19<00:00, 27898581.90it/s]\u001b[A\n",
            " 97%|█████████▋| 536363008/553507836 [00:19<00:00, 27522089.64it/s]\u001b[A\n",
            " 97%|█████████▋| 539123712/553507836 [00:19<00:00, 27363091.85it/s]\u001b[A\n",
            " 98%|█████████▊| 541892608/553507836 [00:20<00:00, 27425054.54it/s]\u001b[A\n",
            " 98%|█████████▊| 544841728/553507836 [00:20<00:00, 27949385.49it/s]\u001b[A\n",
            " 99%|█████████▉| 547643392/553507836 [00:20<00:00, 27888824.04it/s]\u001b[A\n",
            " 99%|█████████▉| 550436864/553507836 [00:20<00:00, 27328968.35it/s]\u001b[A\n",
            "100%|█████████▉| 553181184/553507836 [00:20<00:00, 27294665.29it/s]\u001b[A\n",
            "100%|██████████| 553507836/553507836 [00:20<00:00, 27015878.87it/s]\u001b[A"
          ],
          "name": "stderr"
        }
      ]
    },
    {
      "cell_type": "code",
      "metadata": {
        "id": "t-m1FXkkE7aJ",
        "colab_type": "code",
        "outputId": "a23bb2c8-b9a6-4f59-f028-4e978558ccc5",
        "colab": {
          "base_uri": "https://localhost:8080/",
          "height": 55
        }
      },
      "source": [
        "final_in_features = vgg.classifier[6].in_features\n",
        "mod_classifier = list(vgg.classifier.children())[:-1] #mod_calssifier wil have all the children of vgg_classifier except the last one\n",
        "mod_classifier.extend([nn.Linear(final_in_features, num_classes)])\n",
        "print(mod_classifier)"
      ],
      "execution_count": 0,
      "outputs": [
        {
          "output_type": "stream",
          "text": [
            "[Linear(in_features=25088, out_features=4096, bias=True), ReLU(inplace), Dropout(p=0.5), Linear(in_features=4096, out_features=4096, bias=True), ReLU(inplace), Dropout(p=0.5), Linear(in_features=4096, out_features=10, bias=True)]\n"
          ],
          "name": "stdout"
        }
      ]
    },
    {
      "cell_type": "code",
      "metadata": {
        "id": "BPcEp2NKFAF2",
        "colab_type": "code",
        "outputId": "48de71cb-14b3-4ffc-8737-61a9850befbe",
        "colab": {
          "base_uri": "https://localhost:8080/",
          "height": 1019
        }
      },
      "source": [
        "vgg.classifier = nn.Sequential(*mod_classifier)\n",
        "print(vgg)"
      ],
      "execution_count": 0,
      "outputs": [
        {
          "output_type": "stream",
          "text": [
            "VGG(\n",
            "  (features): Sequential(\n",
            "    (0): Conv2d(3, 64, kernel_size=(3, 3), stride=(1, 1), padding=(1, 1))\n",
            "    (1): BatchNorm2d(64, eps=1e-05, momentum=0.1, affine=True, track_running_stats=True)\n",
            "    (2): ReLU(inplace)\n",
            "    (3): Conv2d(64, 64, kernel_size=(3, 3), stride=(1, 1), padding=(1, 1))\n",
            "    (4): BatchNorm2d(64, eps=1e-05, momentum=0.1, affine=True, track_running_stats=True)\n",
            "    (5): ReLU(inplace)\n",
            "    (6): MaxPool2d(kernel_size=2, stride=2, padding=0, dilation=1, ceil_mode=False)\n",
            "    (7): Conv2d(64, 128, kernel_size=(3, 3), stride=(1, 1), padding=(1, 1))\n",
            "    (8): BatchNorm2d(128, eps=1e-05, momentum=0.1, affine=True, track_running_stats=True)\n",
            "    (9): ReLU(inplace)\n",
            "    (10): Conv2d(128, 128, kernel_size=(3, 3), stride=(1, 1), padding=(1, 1))\n",
            "    (11): BatchNorm2d(128, eps=1e-05, momentum=0.1, affine=True, track_running_stats=True)\n",
            "    (12): ReLU(inplace)\n",
            "    (13): MaxPool2d(kernel_size=2, stride=2, padding=0, dilation=1, ceil_mode=False)\n",
            "    (14): Conv2d(128, 256, kernel_size=(3, 3), stride=(1, 1), padding=(1, 1))\n",
            "    (15): BatchNorm2d(256, eps=1e-05, momentum=0.1, affine=True, track_running_stats=True)\n",
            "    (16): ReLU(inplace)\n",
            "    (17): Conv2d(256, 256, kernel_size=(3, 3), stride=(1, 1), padding=(1, 1))\n",
            "    (18): BatchNorm2d(256, eps=1e-05, momentum=0.1, affine=True, track_running_stats=True)\n",
            "    (19): ReLU(inplace)\n",
            "    (20): Conv2d(256, 256, kernel_size=(3, 3), stride=(1, 1), padding=(1, 1))\n",
            "    (21): BatchNorm2d(256, eps=1e-05, momentum=0.1, affine=True, track_running_stats=True)\n",
            "    (22): ReLU(inplace)\n",
            "    (23): MaxPool2d(kernel_size=2, stride=2, padding=0, dilation=1, ceil_mode=False)\n",
            "    (24): Conv2d(256, 512, kernel_size=(3, 3), stride=(1, 1), padding=(1, 1))\n",
            "    (25): BatchNorm2d(512, eps=1e-05, momentum=0.1, affine=True, track_running_stats=True)\n",
            "    (26): ReLU(inplace)\n",
            "    (27): Conv2d(512, 512, kernel_size=(3, 3), stride=(1, 1), padding=(1, 1))\n",
            "    (28): BatchNorm2d(512, eps=1e-05, momentum=0.1, affine=True, track_running_stats=True)\n",
            "    (29): ReLU(inplace)\n",
            "    (30): Conv2d(512, 512, kernel_size=(3, 3), stride=(1, 1), padding=(1, 1))\n",
            "    (31): BatchNorm2d(512, eps=1e-05, momentum=0.1, affine=True, track_running_stats=True)\n",
            "    (32): ReLU(inplace)\n",
            "    (33): MaxPool2d(kernel_size=2, stride=2, padding=0, dilation=1, ceil_mode=False)\n",
            "    (34): Conv2d(512, 512, kernel_size=(3, 3), stride=(1, 1), padding=(1, 1))\n",
            "    (35): BatchNorm2d(512, eps=1e-05, momentum=0.1, affine=True, track_running_stats=True)\n",
            "    (36): ReLU(inplace)\n",
            "    (37): Conv2d(512, 512, kernel_size=(3, 3), stride=(1, 1), padding=(1, 1))\n",
            "    (38): BatchNorm2d(512, eps=1e-05, momentum=0.1, affine=True, track_running_stats=True)\n",
            "    (39): ReLU(inplace)\n",
            "    (40): Conv2d(512, 512, kernel_size=(3, 3), stride=(1, 1), padding=(1, 1))\n",
            "    (41): BatchNorm2d(512, eps=1e-05, momentum=0.1, affine=True, track_running_stats=True)\n",
            "    (42): ReLU(inplace)\n",
            "    (43): MaxPool2d(kernel_size=2, stride=2, padding=0, dilation=1, ceil_mode=False)\n",
            "  )\n",
            "  (avgpool): AdaptiveAvgPool2d(output_size=(7, 7))\n",
            "  (classifier): Sequential(\n",
            "    (0): Linear(in_features=25088, out_features=4096, bias=True)\n",
            "    (1): ReLU(inplace)\n",
            "    (2): Dropout(p=0.5)\n",
            "    (3): Linear(in_features=4096, out_features=4096, bias=True)\n",
            "    (4): ReLU(inplace)\n",
            "    (5): Dropout(p=0.5)\n",
            "    (6): Linear(in_features=4096, out_features=10, bias=True)\n",
            "  )\n",
            ")\n"
          ],
          "name": "stdout"
        }
      ]
    },
    {
      "cell_type": "code",
      "metadata": {
        "id": "9trDtJTDFNrT",
        "colab_type": "code",
        "colab": {}
      },
      "source": [
        "for param in vgg.parameters():\n",
        "  param.requires_grad = False"
      ],
      "execution_count": 0,
      "outputs": []
    },
    {
      "cell_type": "code",
      "metadata": {
        "id": "uVsEKmSEFfzt",
        "colab_type": "code",
        "colab": {}
      },
      "source": [
        "final_in_features = vgg.classifier[6].in_features\n",
        "vgg.classifier[6] = nn.Linear(final_in_features, num_classes)"
      ],
      "execution_count": 0,
      "outputs": []
    },
    {
      "cell_type": "code",
      "metadata": {
        "id": "XUT8c4qGFxPX",
        "colab_type": "code",
        "colab": {}
      },
      "source": [
        "vgg = vgg.to(device)\n",
        "loss_fn = nn.CrossEntropyLoss()\n",
        "opt = optim.SGD(vgg.parameters(), lr=0.05)"
      ],
      "execution_count": 0,
      "outputs": []
    },
    {
      "cell_type": "code",
      "metadata": {
        "id": "CKviBKhaF0mu",
        "colab_type": "code",
        "colab": {}
      },
      "source": [
        "loss_epoch_arr = []\n",
        "max_epochs = 1\n",
        "n_iters = np.ceil(50000/batch_size)\n",
        "\n",
        "for epoch in range(max_epochs):\n",
        "  for i,data in enumerate(trainloader, 0):\n",
        "    \n",
        "    inputs, labels = data\n",
        "    inputs, labels = inputs.to(device), labels.to(device)\n",
        "    \n",
        "    opt.zero_grad()\n",
        "    \n",
        "    outputs = vgg(inputs)\n",
        "    loss = loss_fn(outputs, labels)\n",
        "    loss.backward()\n",
        "    opt.step()\n",
        "    \n",
        "    del inputs, outputs, labels\n",
        "    torch.cuda.empty_cache()\n",
        "    \n",
        "    if i%100 == 0:\n",
        "      print('Iteration: %d/%d, loss=%0.2f' %(i, n_iters, loss.item()))\n",
        "    \n",
        "  loss_epoch_arr.append(loss.item())\n",
        "    \n",
        "  print('Epoch: %d/%dTest_accu:%0.2f Train_accu:%0.2f' %(epoch, max_epochs, \n",
        "                                                        evaluation(testloader, vgg),\n",
        "                                                        evaluation(trainloader, vgg)))\n",
        "\n",
        "plt.plot(loss_epoch_arr)\n",
        "plt.show()\n",
        "    "
      ],
      "execution_count": 0,
      "outputs": []
    },
    {
      "cell_type": "markdown",
      "metadata": {
        "id": "iXSvioyxIMyI",
        "colab_type": "text"
      },
      "source": [
        "#With model copies"
      ]
    },
    {
      "cell_type": "code",
      "metadata": {
        "id": "sGiwJxPdG8e2",
        "colab_type": "code",
        "colab": {}
      },
      "source": [
        "import copy"
      ],
      "execution_count": 0,
      "outputs": []
    },
    {
      "cell_type": "code",
      "metadata": {
        "id": "DV1I7HOIIOwJ",
        "colab_type": "code",
        "outputId": "b66da03b-78d3-4185-ea62-247bd9c8fc13",
        "colab": {
          "base_uri": "https://localhost:8080/",
          "height": 1133
        }
      },
      "source": [
        "loss_epoch_arr = []\n",
        "max_epochs = 1\n",
        "min_loss = 1000\n",
        "n_iters = np.ceil(50000/batch_size)\n",
        "\n",
        "for epoch in range(max_epochs):\n",
        "  for i,data in enumerate(trainloader, 0):\n",
        "    \n",
        "    inputs, labels = data\n",
        "    inputs, labels = inputs.to(device), labels.to(device)\n",
        "    \n",
        "    opt.zero_grad()\n",
        "    \n",
        "    outputs = vgg(inputs)\n",
        "    loss = loss_fn(outputs, labels)\n",
        "    loss.backward()\n",
        "    opt.step()\n",
        "    \n",
        "    if min_loss > loss.item():\n",
        "      min_loss = loss.item()\n",
        "      best_model = copy.deepcopy(vgg.state_dict())\n",
        "      print('Min loss = %0.2f' % min_loss)\n",
        "    \n",
        "    del inputs, outputs, labels\n",
        "    torch.cuda.empty_cache()\n",
        "    \n",
        "    if i%100 == 0:\n",
        "      print('Iteration: %d/%d, loss=%0.2f' %(i, n_iters, loss.item()))\n",
        "    \n",
        "  loss_epoch_arr.append(loss.item())\n",
        "    \n",
        "  print('Epoch: %d/%dTest_accu:%0.2f Train_accu:%0.2f' %(epoch, max_epochs, \n",
        "                                                        evaluation(testloader, vgg),\n",
        "                                                        evaluation(trainloader, vgg)))\n",
        "\n",
        "plt.plot(loss_epoch_arr)\n",
        "plt.show()\n",
        "    "
      ],
      "execution_count": 0,
      "outputs": [
        {
          "output_type": "stream",
          "text": [
            "Min loss = 2.62\n",
            "Iteration: 0/3125, loss=2.62\n",
            "Min loss = 2.26\n",
            "Min loss = 2.13\n",
            "Min loss = 1.99\n",
            "Min loss = 1.88\n",
            "Min loss = 1.87\n",
            "Min loss = 1.58\n",
            "Min loss = 1.40\n",
            "Min loss = 1.32\n",
            "Min loss = 1.16\n",
            "Iteration: 100/3125, loss=1.22\n",
            "Min loss = 1.06\n",
            "Iteration: 200/3125, loss=1.47\n",
            "Iteration: 300/3125, loss=1.56\n",
            "Min loss = 0.93\n",
            "Min loss = 0.92\n",
            "Iteration: 400/3125, loss=1.66\n",
            "Min loss = 0.82\n",
            "Iteration: 500/3125, loss=2.27\n",
            "Iteration: 600/3125, loss=2.31\n",
            "Iteration: 700/3125, loss=1.44\n",
            "Min loss = 0.75\n",
            "Min loss = 0.61\n",
            "Iteration: 800/3125, loss=2.82\n",
            "Iteration: 900/3125, loss=1.96\n",
            "Iteration: 1000/3125, loss=2.80\n",
            "Iteration: 1100/3125, loss=0.69\n",
            "Iteration: 1200/3125, loss=2.51\n",
            "Iteration: 1300/3125, loss=2.49\n",
            "Iteration: 1400/3125, loss=3.59\n",
            "Iteration: 1500/3125, loss=2.94\n",
            "Min loss = 0.55\n",
            "Iteration: 1600/3125, loss=2.44\n",
            "Iteration: 1700/3125, loss=2.07\n",
            "Iteration: 1800/3125, loss=1.63\n",
            "Iteration: 1900/3125, loss=2.19\n",
            "Iteration: 2000/3125, loss=0.98\n",
            "Iteration: 2100/3125, loss=2.31\n",
            "Iteration: 2200/3125, loss=2.23\n",
            "Min loss = 0.55\n",
            "Iteration: 2300/3125, loss=2.14\n",
            "Iteration: 2400/3125, loss=2.81\n",
            "Iteration: 2500/3125, loss=2.77\n",
            "Iteration: 2600/3125, loss=1.77\n",
            "Iteration: 2700/3125, loss=1.22\n",
            "Iteration: 2800/3125, loss=1.54\n",
            "Min loss = 0.47\n",
            "Iteration: 2900/3125, loss=1.90\n",
            "Iteration: 3000/3125, loss=2.35\n",
            "Iteration: 3100/3125, loss=2.11\n",
            "Epoch: 0/1Test_accu:43.75 Train_accu:31.25\n"
          ],
          "name": "stdout"
        },
        {
          "output_type": "error",
          "ename": "NameError",
          "evalue": "ignored",
          "traceback": [
            "\u001b[0;31m---------------------------------------------------------------------------\u001b[0m",
            "\u001b[0;31mNameError\u001b[0m                                 Traceback (most recent call last)",
            "\u001b[0;32m<ipython-input-31-522ff3fe393c>\u001b[0m in \u001b[0;36m<module>\u001b[0;34m()\u001b[0m\n\u001b[1;32m     34\u001b[0m                                                         evaluation(trainloader, vgg)))\n\u001b[1;32m     35\u001b[0m \u001b[0;34m\u001b[0m\u001b[0m\n\u001b[0;32m---> 36\u001b[0;31m \u001b[0mplt\u001b[0m\u001b[0;34m.\u001b[0m\u001b[0mplot\u001b[0m\u001b[0;34m(\u001b[0m\u001b[0mmax_epoch_arr\u001b[0m\u001b[0;34m)\u001b[0m\u001b[0;34m\u001b[0m\u001b[0;34m\u001b[0m\u001b[0m\n\u001b[0m\u001b[1;32m     37\u001b[0m \u001b[0mplt\u001b[0m\u001b[0;34m.\u001b[0m\u001b[0mshow\u001b[0m\u001b[0;34m(\u001b[0m\u001b[0;34m)\u001b[0m\u001b[0;34m\u001b[0m\u001b[0;34m\u001b[0m\u001b[0m\n\u001b[1;32m     38\u001b[0m \u001b[0;34m\u001b[0m\u001b[0m\n",
            "\u001b[0;31mNameError\u001b[0m: name 'max_epoch_arr' is not defined"
          ]
        }
      ]
    },
    {
      "cell_type": "code",
      "metadata": {
        "id": "ioWDnZ4Mdrly",
        "colab_type": "code",
        "outputId": "a162b83c-4f78-497d-e113-6c169452f753",
        "colab": {
          "base_uri": "https://localhost:8080/",
          "height": 269
        }
      },
      "source": [
        "\n",
        "plt.plot(loss_epoch_arr)\n",
        "plt.show()"
      ],
      "execution_count": 0,
      "outputs": [
        {
          "output_type": "display_data",
          "data": {
            "image/png": "[encoded data removed]",
            "text/plain": [
              "<Figure size 432x288 with 1 Axes>"
            ]
          },
          "metadata": {
            "tags": []
          }
        }
      ]
    },
    {
      "cell_type": "code",
      "metadata": {
        "id": "v-AlnJI6I_gv",
        "colab_type": "code",
        "colab": {}
      },
      "source": [
        "vgg.load_state_dict(best_model)\n",
        "print(evaluation(trainloader,vgg), evaluation(testloader,vgg))"
      ],
      "execution_count": 0,
      "outputs": []
    },
    {
      "cell_type": "markdown",
      "metadata": {
        "id": "BtvAJpjocSNN",
        "colab_type": "text"
      },
      "source": [
        "#Resnet model"
      ]
    },
    {
      "cell_type": "code",
      "metadata": {
        "id": "HnbZdeaYcIGn",
        "colab_type": "code",
        "outputId": "709a63a2-1b74-489c-9609-40fce4eecc4f",
        "colab": {
          "base_uri": "https://localhost:8080/",
          "height": 380
        }
      },
      "source": [
        "resnet = models.resnet18(pretrained=True)"
      ],
      "execution_count": 0,
      "outputs": [
        {
          "output_type": "stream",
          "text": [
            "Downloading: \"https://download.pytorch.org/models/resnet18-5c106cde.pth\" to /root/.cache/torch/checkpoints/resnet18-5c106cde.pth\n",
            "\n",
            "  0%|          | 0/46827520 [00:00<?, ?it/s]\u001b[A\n",
            "  3%|▎         | 1589248/46827520 [00:00<00:02, 15802037.41it/s]\u001b[A\n",
            " 11%|█         | 5111808/46827520 [00:00<00:02, 18925677.89it/s]\u001b[A\n",
            " 17%|█▋        | 7864320/46827520 [00:00<00:01, 20812517.05it/s]\u001b[A\n",
            " 23%|██▎       | 10551296/46827520 [00:00<00:01, 21847910.15it/s]\u001b[A\n",
            " 28%|██▊       | 13041664/46827520 [00:00<00:01, 22576280.34it/s]\u001b[A\n",
            " 33%|███▎      | 15564800/46827520 [00:00<00:01, 23310977.60it/s]\u001b[A\n",
            " 39%|███▉      | 18350080/46827520 [00:00<00:01, 24500348.54it/s]\u001b[A\n",
            " 45%|████▍     | 21037056/46827520 [00:00<00:01, 25144885.16it/s]\u001b[A\n",
            " 50%|█████     | 23592960/46827520 [00:00<00:00, 25180512.59it/s]\u001b[A\n",
            " 56%|█████▌    | 26099712/46827520 [00:01<00:00, 25132179.32it/s]\u001b[A\n",
            " 62%|██████▏   | 28835840/46827520 [00:01<00:00, 25718161.32it/s]\u001b[A\n",
            " 67%|██████▋   | 31522816/46827520 [00:01<00:00, 25966726.14it/s]\u001b[A\n",
            " 73%|███████▎  | 34373632/46827520 [00:01<00:00, 26679152.76it/s]\u001b[A\n",
            " 79%|███████▉  | 37044224/46827520 [00:01<00:00, 26379846.79it/s]\u001b[A\n",
            " 85%|████████▍ | 39714816/46827520 [00:01<00:00, 26353088.43it/s]\u001b[A\n",
            " 91%|█████████ | 42532864/46827520 [00:01<00:00, 26846798.11it/s]\u001b[A\n",
            " 97%|█████████▋| 45228032/46827520 [00:01<00:00, 26652651.38it/s]\u001b[A\n",
            "100%|██████████| 46827520/46827520 [00:01<00:00, 26251596.64it/s]\u001b[A"
          ],
          "name": "stderr"
        }
      ]
    },
    {
      "cell_type": "code",
      "metadata": {
        "id": "pEs3emNCcYK9",
        "colab_type": "code",
        "outputId": "c956f7b1-b984-40ec-c420-72d6a3e846f1",
        "colab": {
          "base_uri": "https://localhost:8080/",
          "height": 1468
        }
      },
      "source": [
        "print(resnet)"
      ],
      "execution_count": 0,
      "outputs": [
        {
          "output_type": "stream",
          "text": [
            "ResNet(\n",
            "  (conv1): Conv2d(3, 64, kernel_size=(7, 7), stride=(2, 2), padding=(3, 3), bias=False)\n",
            "  (bn1): BatchNorm2d(64, eps=1e-05, momentum=0.1, affine=True, track_running_stats=True)\n",
            "  (relu): ReLU(inplace)\n",
            "  (maxpool): MaxPool2d(kernel_size=3, stride=2, padding=1, dilation=1, ceil_mode=False)\n",
            "  (layer1): Sequential(\n",
            "    (0): BasicBlock(\n",
            "      (conv1): Conv2d(64, 64, kernel_size=(3, 3), stride=(1, 1), padding=(1, 1), bias=False)\n",
            "      (bn1): BatchNorm2d(64, eps=1e-05, momentum=0.1, affine=True, track_running_stats=True)\n",
            "      (relu): ReLU(inplace)\n",
            "      (conv2): Conv2d(64, 64, kernel_size=(3, 3), stride=(1, 1), padding=(1, 1), bias=False)\n",
            "      (bn2): BatchNorm2d(64, eps=1e-05, momentum=0.1, affine=True, track_running_stats=True)\n",
            "    )\n",
            "    (1): BasicBlock(\n",
            "      (conv1): Conv2d(64, 64, kernel_size=(3, 3), stride=(1, 1), padding=(1, 1), bias=False)\n",
            "      (bn1): BatchNorm2d(64, eps=1e-05, momentum=0.1, affine=True, track_running_stats=True)\n",
            "      (relu): ReLU(inplace)\n",
            "      (conv2): Conv2d(64, 64, kernel_size=(3, 3), stride=(1, 1), padding=(1, 1), bias=False)\n",
            "      (bn2): BatchNorm2d(64, eps=1e-05, momentum=0.1, affine=True, track_running_stats=True)\n",
            "    )\n",
            "  )\n",
            "  (layer2): Sequential(\n",
            "    (0): BasicBlock(\n",
            "      (conv1): Conv2d(64, 128, kernel_size=(3, 3), stride=(2, 2), padding=(1, 1), bias=False)\n",
            "      (bn1): BatchNorm2d(128, eps=1e-05, momentum=0.1, affine=True, track_running_stats=True)\n",
            "      (relu): ReLU(inplace)\n",
            "      (conv2): Conv2d(128, 128, kernel_size=(3, 3), stride=(1, 1), padding=(1, 1), bias=False)\n",
            "      (bn2): BatchNorm2d(128, eps=1e-05, momentum=0.1, affine=True, track_running_stats=True)\n",
            "      (downsample): Sequential(\n",
            "        (0): Conv2d(64, 128, kernel_size=(1, 1), stride=(2, 2), bias=False)\n",
            "        (1): BatchNorm2d(128, eps=1e-05, momentum=0.1, affine=True, track_running_stats=True)\n",
            "      )\n",
            "    )\n",
            "    (1): BasicBlock(\n",
            "      (conv1): Conv2d(128, 128, kernel_size=(3, 3), stride=(1, 1), padding=(1, 1), bias=False)\n",
            "      (bn1): BatchNorm2d(128, eps=1e-05, momentum=0.1, affine=True, track_running_stats=True)\n",
            "      (relu): ReLU(inplace)\n",
            "      (conv2): Conv2d(128, 128, kernel_size=(3, 3), stride=(1, 1), padding=(1, 1), bias=False)\n",
            "      (bn2): BatchNorm2d(128, eps=1e-05, momentum=0.1, affine=True, track_running_stats=True)\n",
            "    )\n",
            "  )\n",
            "  (layer3): Sequential(\n",
            "    (0): BasicBlock(\n",
            "      (conv1): Conv2d(128, 256, kernel_size=(3, 3), stride=(2, 2), padding=(1, 1), bias=False)\n",
            "      (bn1): BatchNorm2d(256, eps=1e-05, momentum=0.1, affine=True, track_running_stats=True)\n",
            "      (relu): ReLU(inplace)\n",
            "      (conv2): Conv2d(256, 256, kernel_size=(3, 3), stride=(1, 1), padding=(1, 1), bias=False)\n",
            "      (bn2): BatchNorm2d(256, eps=1e-05, momentum=0.1, affine=True, track_running_stats=True)\n",
            "      (downsample): Sequential(\n",
            "        (0): Conv2d(128, 256, kernel_size=(1, 1), stride=(2, 2), bias=False)\n",
            "        (1): BatchNorm2d(256, eps=1e-05, momentum=0.1, affine=True, track_running_stats=True)\n",
            "      )\n",
            "    )\n",
            "    (1): BasicBlock(\n",
            "      (conv1): Conv2d(256, 256, kernel_size=(3, 3), stride=(1, 1), padding=(1, 1), bias=False)\n",
            "      (bn1): BatchNorm2d(256, eps=1e-05, momentum=0.1, affine=True, track_running_stats=True)\n",
            "      (relu): ReLU(inplace)\n",
            "      (conv2): Conv2d(256, 256, kernel_size=(3, 3), stride=(1, 1), padding=(1, 1), bias=False)\n",
            "      (bn2): BatchNorm2d(256, eps=1e-05, momentum=0.1, affine=True, track_running_stats=True)\n",
            "    )\n",
            "  )\n",
            "  (layer4): Sequential(\n",
            "    (0): BasicBlock(\n",
            "      (conv1): Conv2d(256, 512, kernel_size=(3, 3), stride=(2, 2), padding=(1, 1), bias=False)\n",
            "      (bn1): BatchNorm2d(512, eps=1e-05, momentum=0.1, affine=True, track_running_stats=True)\n",
            "      (relu): ReLU(inplace)\n",
            "      (conv2): Conv2d(512, 512, kernel_size=(3, 3), stride=(1, 1), padding=(1, 1), bias=False)\n",
            "      (bn2): BatchNorm2d(512, eps=1e-05, momentum=0.1, affine=True, track_running_stats=True)\n",
            "      (downsample): Sequential(\n",
            "        (0): Conv2d(256, 512, kernel_size=(1, 1), stride=(2, 2), bias=False)\n",
            "        (1): BatchNorm2d(512, eps=1e-05, momentum=0.1, affine=True, track_running_stats=True)\n",
            "      )\n",
            "    )\n",
            "    (1): BasicBlock(\n",
            "      (conv1): Conv2d(512, 512, kernel_size=(3, 3), stride=(1, 1), padding=(1, 1), bias=False)\n",
            "      (bn1): BatchNorm2d(512, eps=1e-05, momentum=0.1, affine=True, track_running_stats=True)\n",
            "      (relu): ReLU(inplace)\n",
            "      (conv2): Conv2d(512, 512, kernel_size=(3, 3), stride=(1, 1), padding=(1, 1), bias=False)\n",
            "      (bn2): BatchNorm2d(512, eps=1e-05, momentum=0.1, affine=True, track_running_stats=True)\n",
            "    )\n",
            "  )\n",
            "  (avgpool): AdaptiveAvgPool2d(output_size=(1, 1))\n",
            "  (fc): Linear(in_features=512, out_features=1000, bias=True)\n",
            ")\n"
          ],
          "name": "stdout"
        }
      ]
    },
    {
      "cell_type": "code",
      "metadata": {
        "id": "rCBEyonMcaoa",
        "colab_type": "code",
        "colab": {}
      },
      "source": [
        "for param in resnet.parameters():\n",
        "  param.requires_grad = False"
      ],
      "execution_count": 0,
      "outputs": []
    },
    {
      "cell_type": "code",
      "metadata": {
        "id": "bG83jjF1eEDa",
        "colab_type": "code",
        "colab": {}
      },
      "source": [
        "in_features = resnet.fc.in_features\n",
        "resnet.fc = nn.Linear(in_features, num_classes)"
      ],
      "execution_count": 0,
      "outputs": []
    },
    {
      "cell_type": "code",
      "metadata": {
        "id": "5HUamlszeQ6W",
        "colab_type": "code",
        "outputId": "598c3f10-bf89-476c-ab60-f370efcbcb86",
        "colab": {
          "base_uri": "https://localhost:8080/",
          "height": 52
        }
      },
      "source": [
        "for param in resnet.parameters():\n",
        "  if param.requires_grad:\n",
        "    print(param.shape)"
      ],
      "execution_count": 0,
      "outputs": [
        {
          "output_type": "stream",
          "text": [
            "torch.Size([10, 512])\n",
            "torch.Size([10])\n"
          ],
          "name": "stdout"
        }
      ]
    },
    {
      "cell_type": "code",
      "metadata": {
        "id": "30FXJ_Csem3a",
        "colab_type": "code",
        "colab": {}
      },
      "source": [
        "resnet = resnet.to(device)\n",
        "loss_fn = nn.CrossEntropyLoss()\n",
        "opt = optim.SGD(resnet.parameters(), lr=0.01)\n"
      ],
      "execution_count": 0,
      "outputs": []
    },
    {
      "cell_type": "code",
      "metadata": {
        "id": "2n6o_t7me1Qs",
        "colab_type": "code",
        "outputId": "a45063f7-1526-4fb3-ee77-a36f60958dde",
        "colab": {
          "base_uri": "https://localhost:8080/",
          "height": 3223
        }
      },
      "source": [
        "loss_epoch_err = []\n",
        "max_epochs = 4\n",
        "\n",
        "min_loss =1000\n",
        "\n",
        "n_iters = np.ceil(50000/batch_size)\n",
        "\n",
        "for epoch in range(max_epochs):\n",
        "  \n",
        "  for i, data in enumerate(trainloader, 0):\n",
        "    \n",
        "    inputs, labels = data\n",
        "    inputs, labels = inputs.to(device), labels.to(device)\n",
        "    \n",
        "    opt.zero_grad()\n",
        "    \n",
        "    outputs = resnet(inputs)\n",
        "    loss = loss_fn(outputs, labels)\n",
        "    loss.backward()\n",
        "    opt.step()\n",
        "    \n",
        "    if min_loss > loss.item():\n",
        "      min_loss = loss.item()\n",
        "      best_model = copy.deepcopy(resnet.state_dict())\n",
        "      print('min_loss: %0.2f' % min_loss)\n",
        "      \n",
        "    if i % 100 == 0:\n",
        "      print('Iteration:%d/%d, loss:%0.2f' %(i, n_iters, loss.item()))\n",
        "      \n",
        "    del inputs, outputs, labels\n",
        "    torch.cuda.empty_cache()\n",
        "    \n",
        "  loss_epoch_err.append(loss.item())\n",
        "  \n",
        "  print('Epoch:%d/%d, train_acc:%0.2f, test_acc:%0.2f' %(epoch, \n",
        "                                                        max_epochs, \n",
        "                                                        evaluation(trainloader, resnet),\n",
        "                                                        evaluation(testloader, resnet)))\n",
        "\n",
        "plt.plot(loss_epoch_err)\n",
        "plt.show()"
      ],
      "execution_count": 0,
      "outputs": [
        {
          "output_type": "stream",
          "text": [
            "min_loss: 2.42\n",
            "Iteration:0/3125, loss:2.42\n",
            "min_loss: 2.36\n",
            "min_loss: 2.22\n",
            "min_loss: 2.21\n",
            "min_loss: 2.07\n",
            "min_loss: 1.98\n",
            "min_loss: 1.98\n",
            "min_loss: 1.78\n",
            "min_loss: 1.76\n",
            "min_loss: 1.76\n",
            "min_loss: 1.72\n",
            "min_loss: 1.71\n",
            "min_loss: 1.70\n",
            "min_loss: 1.52\n",
            "Iteration:100/3125, loss:1.81\n",
            "min_loss: 1.46\n",
            "min_loss: 1.41\n",
            "min_loss: 1.35\n",
            "min_loss: 1.33\n",
            "Iteration:200/3125, loss:1.70\n",
            "min_loss: 1.21\n",
            "min_loss: 1.20\n",
            "min_loss: 1.18\n",
            "min_loss: 1.18\n",
            "Iteration:300/3125, loss:1.45\n",
            "min_loss: 1.14\n",
            "min_loss: 1.08\n",
            "min_loss: 1.01\n",
            "Iteration:400/3125, loss:1.75\n",
            "min_loss: 1.00\n",
            "Iteration:500/3125, loss:1.39\n",
            "min_loss: 0.91\n",
            "Iteration:600/3125, loss:1.38\n",
            "min_loss: 0.73\n",
            "Iteration:700/3125, loss:1.05\n",
            "min_loss: 0.64\n",
            "Iteration:800/3125, loss:1.00\n",
            "Iteration:900/3125, loss:1.54\n",
            "Iteration:1000/3125, loss:1.55\n",
            "Iteration:1100/3125, loss:0.94\n",
            "Iteration:1200/3125, loss:1.39\n",
            "Iteration:1300/3125, loss:1.19\n",
            "Iteration:1400/3125, loss:1.07\n",
            "Iteration:1500/3125, loss:1.29\n",
            "Iteration:1600/3125, loss:1.16\n",
            "Iteration:1700/3125, loss:1.06\n",
            "Iteration:1800/3125, loss:1.24\n",
            "Iteration:1900/3125, loss:1.44\n",
            "Iteration:2000/3125, loss:1.17\n",
            "Iteration:2100/3125, loss:1.43\n",
            "Iteration:2200/3125, loss:1.34\n",
            "Iteration:2300/3125, loss:1.43\n",
            "min_loss: 0.61\n",
            "Iteration:2400/3125, loss:1.37\n",
            "Iteration:2500/3125, loss:1.02\n",
            "Iteration:2600/3125, loss:1.09\n",
            "Iteration:2700/3125, loss:1.67\n",
            "Iteration:2800/3125, loss:1.05\n",
            "min_loss: 0.61\n",
            "Iteration:2900/3125, loss:1.36\n",
            "Iteration:3000/3125, loss:1.25\n",
            "min_loss: 0.60\n",
            "Iteration:3100/3125, loss:0.92\n",
            "Epoch:0/4, train_acc:56.25, test_acc:50.00\n",
            "Iteration:0/3125, loss:1.22\n",
            "min_loss: 0.53\n",
            "Iteration:100/3125, loss:1.20\n",
            "min_loss: 0.49\n",
            "Iteration:200/3125, loss:1.60\n",
            "Iteration:300/3125, loss:1.57\n",
            "Iteration:400/3125, loss:2.11\n",
            "Iteration:500/3125, loss:1.30\n",
            "Iteration:600/3125, loss:1.84\n",
            "Iteration:700/3125, loss:1.23\n",
            "min_loss: 0.47\n",
            "Iteration:800/3125, loss:1.17\n",
            "Iteration:900/3125, loss:1.72\n",
            "Iteration:1000/3125, loss:1.36\n",
            "Iteration:1100/3125, loss:1.32\n",
            "Iteration:1200/3125, loss:1.11\n",
            "Iteration:1300/3125, loss:1.55\n",
            "Iteration:1400/3125, loss:1.04\n",
            "Iteration:1500/3125, loss:0.80\n",
            "min_loss: 0.41\n",
            "Iteration:1600/3125, loss:0.87\n",
            "Iteration:1700/3125, loss:1.65\n",
            "Iteration:1800/3125, loss:1.16\n",
            "Iteration:1900/3125, loss:1.84\n",
            "Iteration:2000/3125, loss:1.47\n",
            "Iteration:2100/3125, loss:1.15\n",
            "Iteration:2200/3125, loss:1.23\n",
            "Iteration:2300/3125, loss:0.79\n",
            "Iteration:2400/3125, loss:1.36\n",
            "Iteration:2500/3125, loss:1.10\n",
            "Iteration:2600/3125, loss:0.83\n",
            "Iteration:2700/3125, loss:1.34\n",
            "Iteration:2800/3125, loss:1.34\n",
            "Iteration:2900/3125, loss:1.27\n",
            "Iteration:3000/3125, loss:1.15\n",
            "Iteration:3100/3125, loss:1.23\n",
            "Epoch:1/4, train_acc:75.00, test_acc:43.75\n",
            "Iteration:0/3125, loss:1.74\n",
            "Iteration:100/3125, loss:1.62\n",
            "Iteration:200/3125, loss:0.92\n",
            "Iteration:300/3125, loss:1.09\n",
            "Iteration:400/3125, loss:1.05\n",
            "Iteration:500/3125, loss:1.45\n",
            "Iteration:600/3125, loss:1.17\n",
            "Iteration:700/3125, loss:1.49\n",
            "Iteration:800/3125, loss:0.79\n",
            "Iteration:900/3125, loss:1.11\n",
            "Iteration:1000/3125, loss:1.01\n",
            "Iteration:1100/3125, loss:0.81\n",
            "Iteration:1200/3125, loss:1.34\n",
            "Iteration:1300/3125, loss:1.29\n",
            "Iteration:1400/3125, loss:1.14\n",
            "min_loss: 0.41\n",
            "Iteration:1500/3125, loss:0.90\n",
            "Iteration:1600/3125, loss:1.19\n",
            "Iteration:1700/3125, loss:1.35\n",
            "min_loss: 0.38\n",
            "Iteration:1800/3125, loss:1.84\n",
            "Iteration:1900/3125, loss:1.13\n",
            "Iteration:2000/3125, loss:1.34\n",
            "Iteration:2100/3125, loss:1.41\n",
            "Iteration:2200/3125, loss:1.09\n",
            "Iteration:2300/3125, loss:0.66\n",
            "Iteration:2400/3125, loss:1.78\n",
            "Iteration:2500/3125, loss:1.54\n",
            "Iteration:2600/3125, loss:0.97\n",
            "Iteration:2700/3125, loss:1.31\n",
            "Iteration:2800/3125, loss:0.92\n",
            "Iteration:2900/3125, loss:1.73\n",
            "Iteration:3000/3125, loss:1.50\n",
            "Iteration:3100/3125, loss:0.84\n",
            "Epoch:2/4, train_acc:50.00, test_acc:62.50\n",
            "Iteration:0/3125, loss:1.42\n",
            "Iteration:100/3125, loss:1.69\n",
            "Iteration:200/3125, loss:1.11\n",
            "Iteration:300/3125, loss:0.96\n",
            "Iteration:400/3125, loss:0.77\n",
            "Iteration:500/3125, loss:1.19\n",
            "Iteration:600/3125, loss:1.55\n",
            "Iteration:700/3125, loss:1.22\n",
            "Iteration:800/3125, loss:1.05\n",
            "Iteration:900/3125, loss:1.36\n",
            "Iteration:1000/3125, loss:0.95\n",
            "Iteration:1100/3125, loss:1.41\n",
            "Iteration:1200/3125, loss:1.84\n",
            "min_loss: 0.38\n",
            "Iteration:1300/3125, loss:1.00\n",
            "Iteration:1400/3125, loss:0.99\n",
            "Iteration:1500/3125, loss:1.32\n",
            "Iteration:1600/3125, loss:1.37\n",
            "Iteration:1700/3125, loss:1.61\n",
            "Iteration:1800/3125, loss:1.28\n",
            "Iteration:1900/3125, loss:1.01\n",
            "Iteration:2000/3125, loss:1.14\n",
            "Iteration:2100/3125, loss:1.43\n",
            "Iteration:2200/3125, loss:0.66\n",
            "Iteration:2300/3125, loss:1.64\n",
            "Iteration:2400/3125, loss:1.18\n",
            "Iteration:2500/3125, loss:1.20\n",
            "Iteration:2600/3125, loss:0.99\n",
            "Iteration:2700/3125, loss:1.06\n",
            "Iteration:2800/3125, loss:0.96\n",
            "Iteration:2900/3125, loss:0.90\n",
            "Iteration:3000/3125, loss:1.42\n",
            "Iteration:3100/3125, loss:0.74\n",
            "Epoch:3/4, train_acc:62.50, test_acc:50.00\n"
          ],
          "name": "stdout"
        },
        {
          "output_type": "display_data",
          "data": {
            "image/png": "[encoded data removed]",
            "text/plain": [
              "<Figure size 432x288 with 1 Axes>"
            ]
          },
          "metadata": {
            "tags": []
          }
        }
      ]
    },
    {
      "cell_type": "code",
      "metadata": {
        "id": "Rmy3qFKtgrx9",
        "colab_type": "code",
        "outputId": "46e8c2b4-e2d3-427f-c987-e4a67c2924fd",
        "colab": {
          "base_uri": "https://localhost:8080/",
          "height": 35
        }
      },
      "source": [
        "resnet.load_state_dict(best_model)\n",
        "print(evaluation(trainloader,resnet), evaluation(testloader,resnet))"
      ],
      "execution_count": 0,
      "outputs": [
        {
          "output_type": "stream",
          "text": [
            "68.75 62.5\n"
          ],
          "name": "stdout"
        }
      ]
    },
    {
      "cell_type": "markdown",
      "metadata": {
        "id": "o2VX1i_hjqD5",
        "colab_type": "text"
      },
      "source": [
        "#Inception Model"
      ]
    },
    {
      "cell_type": "code",
      "metadata": {
        "id": "9v1n_WEthZn5",
        "colab_type": "code",
        "colab": {}
      },
      "source": [
        "inception = models.inception_v3(pretrained=True)"
      ],
      "execution_count": 0,
      "outputs": []
    },
    {
      "cell_type": "code",
      "metadata": {
        "id": "5kdGdX5Oj0-P",
        "colab_type": "code",
        "outputId": "dddbb298-6924-4e3d-bcda-367959ac2b50",
        "colab": {
          "base_uri": "https://localhost:8080/",
          "height": 7134
        }
      },
      "source": [
        "print(inception)"
      ],
      "execution_count": 0,
      "outputs": [
        {
          "output_type": "stream",
          "text": [
            "Inception3(\n",
            "  (Conv2d_1a_3x3): BasicConv2d(\n",
            "    (conv): Conv2d(3, 32, kernel_size=(3, 3), stride=(2, 2), bias=False)\n",
            "    (bn): BatchNorm2d(32, eps=0.001, momentum=0.1, affine=True, track_running_stats=True)\n",
            "  )\n",
            "  (Conv2d_2a_3x3): BasicConv2d(\n",
            "    (conv): Conv2d(32, 32, kernel_size=(3, 3), stride=(1, 1), bias=False)\n",
            "    (bn): BatchNorm2d(32, eps=0.001, momentum=0.1, affine=True, track_running_stats=True)\n",
            "  )\n",
            "  (Conv2d_2b_3x3): BasicConv2d(\n",
            "    (conv): Conv2d(32, 64, kernel_size=(3, 3), stride=(1, 1), padding=(1, 1), bias=False)\n",
            "    (bn): BatchNorm2d(64, eps=0.001, momentum=0.1, affine=True, track_running_stats=True)\n",
            "  )\n",
            "  (Conv2d_3b_1x1): BasicConv2d(\n",
            "    (conv): Conv2d(64, 80, kernel_size=(1, 1), stride=(1, 1), bias=False)\n",
            "    (bn): BatchNorm2d(80, eps=0.001, momentum=0.1, affine=True, track_running_stats=True)\n",
            "  )\n",
            "  (Conv2d_4a_3x3): BasicConv2d(\n",
            "    (conv): Conv2d(80, 192, kernel_size=(3, 3), stride=(1, 1), bias=False)\n",
            "    (bn): BatchNorm2d(192, eps=0.001, momentum=0.1, affine=True, track_running_stats=True)\n",
            "  )\n",
            "  (Mixed_5b): InceptionA(\n",
            "    (branch1x1): BasicConv2d(\n",
            "      (conv): Conv2d(192, 64, kernel_size=(1, 1), stride=(1, 1), bias=False)\n",
            "      (bn): BatchNorm2d(64, eps=0.001, momentum=0.1, affine=True, track_running_stats=True)\n",
            "    )\n",
            "    (branch5x5_1): BasicConv2d(\n",
            "      (conv): Conv2d(192, 48, kernel_size=(1, 1), stride=(1, 1), bias=False)\n",
            "      (bn): BatchNorm2d(48, eps=0.001, momentum=0.1, affine=True, track_running_stats=True)\n",
            "    )\n",
            "    (branch5x5_2): BasicConv2d(\n",
            "      (conv): Conv2d(48, 64, kernel_size=(5, 5), stride=(1, 1), padding=(2, 2), bias=False)\n",
            "      (bn): BatchNorm2d(64, eps=0.001, momentum=0.1, affine=True, track_running_stats=True)\n",
            "    )\n",
            "    (branch3x3dbl_1): BasicConv2d(\n",
            "      (conv): Conv2d(192, 64, kernel_size=(1, 1), stride=(1, 1), bias=False)\n",
            "      (bn): BatchNorm2d(64, eps=0.001, momentum=0.1, affine=True, track_running_stats=True)\n",
            "    )\n",
            "    (branch3x3dbl_2): BasicConv2d(\n",
            "      (conv): Conv2d(64, 96, kernel_size=(3, 3), stride=(1, 1), padding=(1, 1), bias=False)\n",
            "      (bn): BatchNorm2d(96, eps=0.001, momentum=0.1, affine=True, track_running_stats=True)\n",
            "    )\n",
            "    (branch3x3dbl_3): BasicConv2d(\n",
            "      (conv): Conv2d(96, 96, kernel_size=(3, 3), stride=(1, 1), padding=(1, 1), bias=False)\n",
            "      (bn): BatchNorm2d(96, eps=0.001, momentum=0.1, affine=True, track_running_stats=True)\n",
            "    )\n",
            "    (branch_pool): BasicConv2d(\n",
            "      (conv): Conv2d(192, 32, kernel_size=(1, 1), stride=(1, 1), bias=False)\n",
            "      (bn): BatchNorm2d(32, eps=0.001, momentum=0.1, affine=True, track_running_stats=True)\n",
            "    )\n",
            "  )\n",
            "  (Mixed_5c): InceptionA(\n",
            "    (branch1x1): BasicConv2d(\n",
            "      (conv): Conv2d(256, 64, kernel_size=(1, 1), stride=(1, 1), bias=False)\n",
            "      (bn): BatchNorm2d(64, eps=0.001, momentum=0.1, affine=True, track_running_stats=True)\n",
            "    )\n",
            "    (branch5x5_1): BasicConv2d(\n",
            "      (conv): Conv2d(256, 48, kernel_size=(1, 1), stride=(1, 1), bias=False)\n",
            "      (bn): BatchNorm2d(48, eps=0.001, momentum=0.1, affine=True, track_running_stats=True)\n",
            "    )\n",
            "    (branch5x5_2): BasicConv2d(\n",
            "      (conv): Conv2d(48, 64, kernel_size=(5, 5), stride=(1, 1), padding=(2, 2), bias=False)\n",
            "      (bn): BatchNorm2d(64, eps=0.001, momentum=0.1, affine=True, track_running_stats=True)\n",
            "    )\n",
            "    (branch3x3dbl_1): BasicConv2d(\n",
            "      (conv): Conv2d(256, 64, kernel_size=(1, 1), stride=(1, 1), bias=False)\n",
            "      (bn): BatchNorm2d(64, eps=0.001, momentum=0.1, affine=True, track_running_stats=True)\n",
            "    )\n",
            "    (branch3x3dbl_2): BasicConv2d(\n",
            "      (conv): Conv2d(64, 96, kernel_size=(3, 3), stride=(1, 1), padding=(1, 1), bias=False)\n",
            "      (bn): BatchNorm2d(96, eps=0.001, momentum=0.1, affine=True, track_running_stats=True)\n",
            "    )\n",
            "    (branch3x3dbl_3): BasicConv2d(\n",
            "      (conv): Conv2d(96, 96, kernel_size=(3, 3), stride=(1, 1), padding=(1, 1), bias=False)\n",
            "      (bn): BatchNorm2d(96, eps=0.001, momentum=0.1, affine=True, track_running_stats=True)\n",
            "    )\n",
            "    (branch_pool): BasicConv2d(\n",
            "      (conv): Conv2d(256, 64, kernel_size=(1, 1), stride=(1, 1), bias=False)\n",
            "      (bn): BatchNorm2d(64, eps=0.001, momentum=0.1, affine=True, track_running_stats=True)\n",
            "    )\n",
            "  )\n",
            "  (Mixed_5d): InceptionA(\n",
            "    (branch1x1): BasicConv2d(\n",
            "      (conv): Conv2d(288, 64, kernel_size=(1, 1), stride=(1, 1), bias=False)\n",
            "      (bn): BatchNorm2d(64, eps=0.001, momentum=0.1, affine=True, track_running_stats=True)\n",
            "    )\n",
            "    (branch5x5_1): BasicConv2d(\n",
            "      (conv): Conv2d(288, 48, kernel_size=(1, 1), stride=(1, 1), bias=False)\n",
            "      (bn): BatchNorm2d(48, eps=0.001, momentum=0.1, affine=True, track_running_stats=True)\n",
            "    )\n",
            "    (branch5x5_2): BasicConv2d(\n",
            "      (conv): Conv2d(48, 64, kernel_size=(5, 5), stride=(1, 1), padding=(2, 2), bias=False)\n",
            "      (bn): BatchNorm2d(64, eps=0.001, momentum=0.1, affine=True, track_running_stats=True)\n",
            "    )\n",
            "    (branch3x3dbl_1): BasicConv2d(\n",
            "      (conv): Conv2d(288, 64, kernel_size=(1, 1), stride=(1, 1), bias=False)\n",
            "      (bn): BatchNorm2d(64, eps=0.001, momentum=0.1, affine=True, track_running_stats=True)\n",
            "    )\n",
            "    (branch3x3dbl_2): BasicConv2d(\n",
            "      (conv): Conv2d(64, 96, kernel_size=(3, 3), stride=(1, 1), padding=(1, 1), bias=False)\n",
            "      (bn): BatchNorm2d(96, eps=0.001, momentum=0.1, affine=True, track_running_stats=True)\n",
            "    )\n",
            "    (branch3x3dbl_3): BasicConv2d(\n",
            "      (conv): Conv2d(96, 96, kernel_size=(3, 3), stride=(1, 1), padding=(1, 1), bias=False)\n",
            "      (bn): BatchNorm2d(96, eps=0.001, momentum=0.1, affine=True, track_running_stats=True)\n",
            "    )\n",
            "    (branch_pool): BasicConv2d(\n",
            "      (conv): Conv2d(288, 64, kernel_size=(1, 1), stride=(1, 1), bias=False)\n",
            "      (bn): BatchNorm2d(64, eps=0.001, momentum=0.1, affine=True, track_running_stats=True)\n",
            "    )\n",
            "  )\n",
            "  (Mixed_6a): InceptionB(\n",
            "    (branch3x3): BasicConv2d(\n",
            "      (conv): Conv2d(288, 384, kernel_size=(3, 3), stride=(2, 2), bias=False)\n",
            "      (bn): BatchNorm2d(384, eps=0.001, momentum=0.1, affine=True, track_running_stats=True)\n",
            "    )\n",
            "    (branch3x3dbl_1): BasicConv2d(\n",
            "      (conv): Conv2d(288, 64, kernel_size=(1, 1), stride=(1, 1), bias=False)\n",
            "      (bn): BatchNorm2d(64, eps=0.001, momentum=0.1, affine=True, track_running_stats=True)\n",
            "    )\n",
            "    (branch3x3dbl_2): BasicConv2d(\n",
            "      (conv): Conv2d(64, 96, kernel_size=(3, 3), stride=(1, 1), padding=(1, 1), bias=False)\n",
            "      (bn): BatchNorm2d(96, eps=0.001, momentum=0.1, affine=True, track_running_stats=True)\n",
            "    )\n",
            "    (branch3x3dbl_3): BasicConv2d(\n",
            "      (conv): Conv2d(96, 96, kernel_size=(3, 3), stride=(2, 2), bias=False)\n",
            "      (bn): BatchNorm2d(96, eps=0.001, momentum=0.1, affine=True, track_running_stats=True)\n",
            "    )\n",
            "  )\n",
            "  (Mixed_6b): InceptionC(\n",
            "    (branch1x1): BasicConv2d(\n",
            "      (conv): Conv2d(768, 192, kernel_size=(1, 1), stride=(1, 1), bias=False)\n",
            "      (bn): BatchNorm2d(192, eps=0.001, momentum=0.1, affine=True, track_running_stats=True)\n",
            "    )\n",
            "    (branch7x7_1): BasicConv2d(\n",
            "      (conv): Conv2d(768, 128, kernel_size=(1, 1), stride=(1, 1), bias=False)\n",
            "      (bn): BatchNorm2d(128, eps=0.001, momentum=0.1, affine=True, track_running_stats=True)\n",
            "    )\n",
            "    (branch7x7_2): BasicConv2d(\n",
            "      (conv): Conv2d(128, 128, kernel_size=(1, 7), stride=(1, 1), padding=(0, 3), bias=False)\n",
            "      (bn): BatchNorm2d(128, eps=0.001, momentum=0.1, affine=True, track_running_stats=True)\n",
            "    )\n",
            "    (branch7x7_3): BasicConv2d(\n",
            "      (conv): Conv2d(128, 192, kernel_size=(7, 1), stride=(1, 1), padding=(3, 0), bias=False)\n",
            "      (bn): BatchNorm2d(192, eps=0.001, momentum=0.1, affine=True, track_running_stats=True)\n",
            "    )\n",
            "    (branch7x7dbl_1): BasicConv2d(\n",
            "      (conv): Conv2d(768, 128, kernel_size=(1, 1), stride=(1, 1), bias=False)\n",
            "      (bn): BatchNorm2d(128, eps=0.001, momentum=0.1, affine=True, track_running_stats=True)\n",
            "    )\n",
            "    (branch7x7dbl_2): BasicConv2d(\n",
            "      (conv): Conv2d(128, 128, kernel_size=(7, 1), stride=(1, 1), padding=(3, 0), bias=False)\n",
            "      (bn): BatchNorm2d(128, eps=0.001, momentum=0.1, affine=True, track_running_stats=True)\n",
            "    )\n",
            "    (branch7x7dbl_3): BasicConv2d(\n",
            "      (conv): Conv2d(128, 128, kernel_size=(1, 7), stride=(1, 1), padding=(0, 3), bias=False)\n",
            "      (bn): BatchNorm2d(128, eps=0.001, momentum=0.1, affine=True, track_running_stats=True)\n",
            "    )\n",
            "    (branch7x7dbl_4): BasicConv2d(\n",
            "      (conv): Conv2d(128, 128, kernel_size=(7, 1), stride=(1, 1), padding=(3, 0), bias=False)\n",
            "      (bn): BatchNorm2d(128, eps=0.001, momentum=0.1, affine=True, track_running_stats=True)\n",
            "    )\n",
            "    (branch7x7dbl_5): BasicConv2d(\n",
            "      (conv): Conv2d(128, 192, kernel_size=(1, 7), stride=(1, 1), padding=(0, 3), bias=False)\n",
            "      (bn): BatchNorm2d(192, eps=0.001, momentum=0.1, affine=True, track_running_stats=True)\n",
            "    )\n",
            "    (branch_pool): BasicConv2d(\n",
            "      (conv): Conv2d(768, 192, kernel_size=(1, 1), stride=(1, 1), bias=False)\n",
            "      (bn): BatchNorm2d(192, eps=0.001, momentum=0.1, affine=True, track_running_stats=True)\n",
            "    )\n",
            "  )\n",
            "  (Mixed_6c): InceptionC(\n",
            "    (branch1x1): BasicConv2d(\n",
            "      (conv): Conv2d(768, 192, kernel_size=(1, 1), stride=(1, 1), bias=False)\n",
            "      (bn): BatchNorm2d(192, eps=0.001, momentum=0.1, affine=True, track_running_stats=True)\n",
            "    )\n",
            "    (branch7x7_1): BasicConv2d(\n",
            "      (conv): Conv2d(768, 160, kernel_size=(1, 1), stride=(1, 1), bias=False)\n",
            "      (bn): BatchNorm2d(160, eps=0.001, momentum=0.1, affine=True, track_running_stats=True)\n",
            "    )\n",
            "    (branch7x7_2): BasicConv2d(\n",
            "      (conv): Conv2d(160, 160, kernel_size=(1, 7), stride=(1, 1), padding=(0, 3), bias=False)\n",
            "      (bn): BatchNorm2d(160, eps=0.001, momentum=0.1, affine=True, track_running_stats=True)\n",
            "    )\n",
            "    (branch7x7_3): BasicConv2d(\n",
            "      (conv): Conv2d(160, 192, kernel_size=(7, 1), stride=(1, 1), padding=(3, 0), bias=False)\n",
            "      (bn): BatchNorm2d(192, eps=0.001, momentum=0.1, affine=True, track_running_stats=True)\n",
            "    )\n",
            "    (branch7x7dbl_1): BasicConv2d(\n",
            "      (conv): Conv2d(768, 160, kernel_size=(1, 1), stride=(1, 1), bias=False)\n",
            "      (bn): BatchNorm2d(160, eps=0.001, momentum=0.1, affine=True, track_running_stats=True)\n",
            "    )\n",
            "    (branch7x7dbl_2): BasicConv2d(\n",
            "      (conv): Conv2d(160, 160, kernel_size=(7, 1), stride=(1, 1), padding=(3, 0), bias=False)\n",
            "      (bn): BatchNorm2d(160, eps=0.001, momentum=0.1, affine=True, track_running_stats=True)\n",
            "    )\n",
            "    (branch7x7dbl_3): BasicConv2d(\n",
            "      (conv): Conv2d(160, 160, kernel_size=(1, 7), stride=(1, 1), padding=(0, 3), bias=False)\n",
            "      (bn): BatchNorm2d(160, eps=0.001, momentum=0.1, affine=True, track_running_stats=True)\n",
            "    )\n",
            "    (branch7x7dbl_4): BasicConv2d(\n",
            "      (conv): Conv2d(160, 160, kernel_size=(7, 1), stride=(1, 1), padding=(3, 0), bias=False)\n",
            "      (bn): BatchNorm2d(160, eps=0.001, momentum=0.1, affine=True, track_running_stats=True)\n",
            "    )\n",
            "    (branch7x7dbl_5): BasicConv2d(\n",
            "      (conv): Conv2d(160, 192, kernel_size=(1, 7), stride=(1, 1), padding=(0, 3), bias=False)\n",
            "      (bn): BatchNorm2d(192, eps=0.001, momentum=0.1, affine=True, track_running_stats=True)\n",
            "    )\n",
            "    (branch_pool): BasicConv2d(\n",
            "      (conv): Conv2d(768, 192, kernel_size=(1, 1), stride=(1, 1), bias=False)\n",
            "      (bn): BatchNorm2d(192, eps=0.001, momentum=0.1, affine=True, track_running_stats=True)\n",
            "    )\n",
            "  )\n",
            "  (Mixed_6d): InceptionC(\n",
            "    (branch1x1): BasicConv2d(\n",
            "      (conv): Conv2d(768, 192, kernel_size=(1, 1), stride=(1, 1), bias=False)\n",
            "      (bn): BatchNorm2d(192, eps=0.001, momentum=0.1, affine=True, track_running_stats=True)\n",
            "    )\n",
            "    (branch7x7_1): BasicConv2d(\n",
            "      (conv): Conv2d(768, 160, kernel_size=(1, 1), stride=(1, 1), bias=False)\n",
            "      (bn): BatchNorm2d(160, eps=0.001, momentum=0.1, affine=True, track_running_stats=True)\n",
            "    )\n",
            "    (branch7x7_2): BasicConv2d(\n",
            "      (conv): Conv2d(160, 160, kernel_size=(1, 7), stride=(1, 1), padding=(0, 3), bias=False)\n",
            "      (bn): BatchNorm2d(160, eps=0.001, momentum=0.1, affine=True, track_running_stats=True)\n",
            "    )\n",
            "    (branch7x7_3): BasicConv2d(\n",
            "      (conv): Conv2d(160, 192, kernel_size=(7, 1), stride=(1, 1), padding=(3, 0), bias=False)\n",
            "      (bn): BatchNorm2d(192, eps=0.001, momentum=0.1, affine=True, track_running_stats=True)\n",
            "    )\n",
            "    (branch7x7dbl_1): BasicConv2d(\n",
            "      (conv): Conv2d(768, 160, kernel_size=(1, 1), stride=(1, 1), bias=False)\n",
            "      (bn): BatchNorm2d(160, eps=0.001, momentum=0.1, affine=True, track_running_stats=True)\n",
            "    )\n",
            "    (branch7x7dbl_2): BasicConv2d(\n",
            "      (conv): Conv2d(160, 160, kernel_size=(7, 1), stride=(1, 1), padding=(3, 0), bias=False)\n",
            "      (bn): BatchNorm2d(160, eps=0.001, momentum=0.1, affine=True, track_running_stats=True)\n",
            "    )\n",
            "    (branch7x7dbl_3): BasicConv2d(\n",
            "      (conv): Conv2d(160, 160, kernel_size=(1, 7), stride=(1, 1), padding=(0, 3), bias=False)\n",
            "      (bn): BatchNorm2d(160, eps=0.001, momentum=0.1, affine=True, track_running_stats=True)\n",
            "    )\n",
            "    (branch7x7dbl_4): BasicConv2d(\n",
            "      (conv): Conv2d(160, 160, kernel_size=(7, 1), stride=(1, 1), padding=(3, 0), bias=False)\n",
            "      (bn): BatchNorm2d(160, eps=0.001, momentum=0.1, affine=True, track_running_stats=True)\n",
            "    )\n",
            "    (branch7x7dbl_5): BasicConv2d(\n",
            "      (conv): Conv2d(160, 192, kernel_size=(1, 7), stride=(1, 1), padding=(0, 3), bias=False)\n",
            "      (bn): BatchNorm2d(192, eps=0.001, momentum=0.1, affine=True, track_running_stats=True)\n",
            "    )\n",
            "    (branch_pool): BasicConv2d(\n",
            "      (conv): Conv2d(768, 192, kernel_size=(1, 1), stride=(1, 1), bias=False)\n",
            "      (bn): BatchNorm2d(192, eps=0.001, momentum=0.1, affine=True, track_running_stats=True)\n",
            "    )\n",
            "  )\n",
            "  (Mixed_6e): InceptionC(\n",
            "    (branch1x1): BasicConv2d(\n",
            "      (conv): Conv2d(768, 192, kernel_size=(1, 1), stride=(1, 1), bias=False)\n",
            "      (bn): BatchNorm2d(192, eps=0.001, momentum=0.1, affine=True, track_running_stats=True)\n",
            "    )\n",
            "    (branch7x7_1): BasicConv2d(\n",
            "      (conv): Conv2d(768, 192, kernel_size=(1, 1), stride=(1, 1), bias=False)\n",
            "      (bn): BatchNorm2d(192, eps=0.001, momentum=0.1, affine=True, track_running_stats=True)\n",
            "    )\n",
            "    (branch7x7_2): BasicConv2d(\n",
            "      (conv): Conv2d(192, 192, kernel_size=(1, 7), stride=(1, 1), padding=(0, 3), bias=False)\n",
            "      (bn): BatchNorm2d(192, eps=0.001, momentum=0.1, affine=True, track_running_stats=True)\n",
            "    )\n",
            "    (branch7x7_3): BasicConv2d(\n",
            "      (conv): Conv2d(192, 192, kernel_size=(7, 1), stride=(1, 1), padding=(3, 0), bias=False)\n",
            "      (bn): BatchNorm2d(192, eps=0.001, momentum=0.1, affine=True, track_running_stats=True)\n",
            "    )\n",
            "    (branch7x7dbl_1): BasicConv2d(\n",
            "      (conv): Conv2d(768, 192, kernel_size=(1, 1), stride=(1, 1), bias=False)\n",
            "      (bn): BatchNorm2d(192, eps=0.001, momentum=0.1, affine=True, track_running_stats=True)\n",
            "    )\n",
            "    (branch7x7dbl_2): BasicConv2d(\n",
            "      (conv): Conv2d(192, 192, kernel_size=(7, 1), stride=(1, 1), padding=(3, 0), bias=False)\n",
            "      (bn): BatchNorm2d(192, eps=0.001, momentum=0.1, affine=True, track_running_stats=True)\n",
            "    )\n",
            "    (branch7x7dbl_3): BasicConv2d(\n",
            "      (conv): Conv2d(192, 192, kernel_size=(1, 7), stride=(1, 1), padding=(0, 3), bias=False)\n",
            "      (bn): BatchNorm2d(192, eps=0.001, momentum=0.1, affine=True, track_running_stats=True)\n",
            "    )\n",
            "    (branch7x7dbl_4): BasicConv2d(\n",
            "      (conv): Conv2d(192, 192, kernel_size=(7, 1), stride=(1, 1), padding=(3, 0), bias=False)\n",
            "      (bn): BatchNorm2d(192, eps=0.001, momentum=0.1, affine=True, track_running_stats=True)\n",
            "    )\n",
            "    (branch7x7dbl_5): BasicConv2d(\n",
            "      (conv): Conv2d(192, 192, kernel_size=(1, 7), stride=(1, 1), padding=(0, 3), bias=False)\n",
            "      (bn): BatchNorm2d(192, eps=0.001, momentum=0.1, affine=True, track_running_stats=True)\n",
            "    )\n",
            "    (branch_pool): BasicConv2d(\n",
            "      (conv): Conv2d(768, 192, kernel_size=(1, 1), stride=(1, 1), bias=False)\n",
            "      (bn): BatchNorm2d(192, eps=0.001, momentum=0.1, affine=True, track_running_stats=True)\n",
            "    )\n",
            "  )\n",
            "  (AuxLogits): InceptionAux(\n",
            "    (conv0): BasicConv2d(\n",
            "      (conv): Conv2d(768, 128, kernel_size=(1, 1), stride=(1, 1), bias=False)\n",
            "      (bn): BatchNorm2d(128, eps=0.001, momentum=0.1, affine=True, track_running_stats=True)\n",
            "    )\n",
            "    (conv1): BasicConv2d(\n",
            "      (conv): Conv2d(128, 768, kernel_size=(5, 5), stride=(1, 1), bias=False)\n",
            "      (bn): BatchNorm2d(768, eps=0.001, momentum=0.1, affine=True, track_running_stats=True)\n",
            "    )\n",
            "    (fc): Linear(in_features=768, out_features=1000, bias=True)\n",
            "  )\n",
            "  (Mixed_7a): InceptionD(\n",
            "    (branch3x3_1): BasicConv2d(\n",
            "      (conv): Conv2d(768, 192, kernel_size=(1, 1), stride=(1, 1), bias=False)\n",
            "      (bn): BatchNorm2d(192, eps=0.001, momentum=0.1, affine=True, track_running_stats=True)\n",
            "    )\n",
            "    (branch3x3_2): BasicConv2d(\n",
            "      (conv): Conv2d(192, 320, kernel_size=(3, 3), stride=(2, 2), bias=False)\n",
            "      (bn): BatchNorm2d(320, eps=0.001, momentum=0.1, affine=True, track_running_stats=True)\n",
            "    )\n",
            "    (branch7x7x3_1): BasicConv2d(\n",
            "      (conv): Conv2d(768, 192, kernel_size=(1, 1), stride=(1, 1), bias=False)\n",
            "      (bn): BatchNorm2d(192, eps=0.001, momentum=0.1, affine=True, track_running_stats=True)\n",
            "    )\n",
            "    (branch7x7x3_2): BasicConv2d(\n",
            "      (conv): Conv2d(192, 192, kernel_size=(1, 7), stride=(1, 1), padding=(0, 3), bias=False)\n",
            "      (bn): BatchNorm2d(192, eps=0.001, momentum=0.1, affine=True, track_running_stats=True)\n",
            "    )\n",
            "    (branch7x7x3_3): BasicConv2d(\n",
            "      (conv): Conv2d(192, 192, kernel_size=(7, 1), stride=(1, 1), padding=(3, 0), bias=False)\n",
            "      (bn): BatchNorm2d(192, eps=0.001, momentum=0.1, affine=True, track_running_stats=True)\n",
            "    )\n",
            "    (branch7x7x3_4): BasicConv2d(\n",
            "      (conv): Conv2d(192, 192, kernel_size=(3, 3), stride=(2, 2), bias=False)\n",
            "      (bn): BatchNorm2d(192, eps=0.001, momentum=0.1, affine=True, track_running_stats=True)\n",
            "    )\n",
            "  )\n",
            "  (Mixed_7b): InceptionE(\n",
            "    (branch1x1): BasicConv2d(\n",
            "      (conv): Conv2d(1280, 320, kernel_size=(1, 1), stride=(1, 1), bias=False)\n",
            "      (bn): BatchNorm2d(320, eps=0.001, momentum=0.1, affine=True, track_running_stats=True)\n",
            "    )\n",
            "    (branch3x3_1): BasicConv2d(\n",
            "      (conv): Conv2d(1280, 384, kernel_size=(1, 1), stride=(1, 1), bias=False)\n",
            "      (bn): BatchNorm2d(384, eps=0.001, momentum=0.1, affine=True, track_running_stats=True)\n",
            "    )\n",
            "    (branch3x3_2a): BasicConv2d(\n",
            "      (conv): Conv2d(384, 384, kernel_size=(1, 3), stride=(1, 1), padding=(0, 1), bias=False)\n",
            "      (bn): BatchNorm2d(384, eps=0.001, momentum=0.1, affine=True, track_running_stats=True)\n",
            "    )\n",
            "    (branch3x3_2b): BasicConv2d(\n",
            "      (conv): Conv2d(384, 384, kernel_size=(3, 1), stride=(1, 1), padding=(1, 0), bias=False)\n",
            "      (bn): BatchNorm2d(384, eps=0.001, momentum=0.1, affine=True, track_running_stats=True)\n",
            "    )\n",
            "    (branch3x3dbl_1): BasicConv2d(\n",
            "      (conv): Conv2d(1280, 448, kernel_size=(1, 1), stride=(1, 1), bias=False)\n",
            "      (bn): BatchNorm2d(448, eps=0.001, momentum=0.1, affine=True, track_running_stats=True)\n",
            "    )\n",
            "    (branch3x3dbl_2): BasicConv2d(\n",
            "      (conv): Conv2d(448, 384, kernel_size=(3, 3), stride=(1, 1), padding=(1, 1), bias=False)\n",
            "      (bn): BatchNorm2d(384, eps=0.001, momentum=0.1, affine=True, track_running_stats=True)\n",
            "    )\n",
            "    (branch3x3dbl_3a): BasicConv2d(\n",
            "      (conv): Conv2d(384, 384, kernel_size=(1, 3), stride=(1, 1), padding=(0, 1), bias=False)\n",
            "      (bn): BatchNorm2d(384, eps=0.001, momentum=0.1, affine=True, track_running_stats=True)\n",
            "    )\n",
            "    (branch3x3dbl_3b): BasicConv2d(\n",
            "      (conv): Conv2d(384, 384, kernel_size=(3, 1), stride=(1, 1), padding=(1, 0), bias=False)\n",
            "      (bn): BatchNorm2d(384, eps=0.001, momentum=0.1, affine=True, track_running_stats=True)\n",
            "    )\n",
            "    (branch_pool): BasicConv2d(\n",
            "      (conv): Conv2d(1280, 192, kernel_size=(1, 1), stride=(1, 1), bias=False)\n",
            "      (bn): BatchNorm2d(192, eps=0.001, momentum=0.1, affine=True, track_running_stats=True)\n",
            "    )\n",
            "  )\n",
            "  (Mixed_7c): InceptionE(\n",
            "    (branch1x1): BasicConv2d(\n",
            "      (conv): Conv2d(2048, 320, kernel_size=(1, 1), stride=(1, 1), bias=False)\n",
            "      (bn): BatchNorm2d(320, eps=0.001, momentum=0.1, affine=True, track_running_stats=True)\n",
            "    )\n",
            "    (branch3x3_1): BasicConv2d(\n",
            "      (conv): Conv2d(2048, 384, kernel_size=(1, 1), stride=(1, 1), bias=False)\n",
            "      (bn): BatchNorm2d(384, eps=0.001, momentum=0.1, affine=True, track_running_stats=True)\n",
            "    )\n",
            "    (branch3x3_2a): BasicConv2d(\n",
            "      (conv): Conv2d(384, 384, kernel_size=(1, 3), stride=(1, 1), padding=(0, 1), bias=False)\n",
            "      (bn): BatchNorm2d(384, eps=0.001, momentum=0.1, affine=True, track_running_stats=True)\n",
            "    )\n",
            "    (branch3x3_2b): BasicConv2d(\n",
            "      (conv): Conv2d(384, 384, kernel_size=(3, 1), stride=(1, 1), padding=(1, 0), bias=False)\n",
            "      (bn): BatchNorm2d(384, eps=0.001, momentum=0.1, affine=True, track_running_stats=True)\n",
            "    )\n",
            "    (branch3x3dbl_1): BasicConv2d(\n",
            "      (conv): Conv2d(2048, 448, kernel_size=(1, 1), stride=(1, 1), bias=False)\n",
            "      (bn): BatchNorm2d(448, eps=0.001, momentum=0.1, affine=True, track_running_stats=True)\n",
            "    )\n",
            "    (branch3x3dbl_2): BasicConv2d(\n",
            "      (conv): Conv2d(448, 384, kernel_size=(3, 3), stride=(1, 1), padding=(1, 1), bias=False)\n",
            "      (bn): BatchNorm2d(384, eps=0.001, momentum=0.1, affine=True, track_running_stats=True)\n",
            "    )\n",
            "    (branch3x3dbl_3a): BasicConv2d(\n",
            "      (conv): Conv2d(384, 384, kernel_size=(1, 3), stride=(1, 1), padding=(0, 1), bias=False)\n",
            "      (bn): BatchNorm2d(384, eps=0.001, momentum=0.1, affine=True, track_running_stats=True)\n",
            "    )\n",
            "    (branch3x3dbl_3b): BasicConv2d(\n",
            "      (conv): Conv2d(384, 384, kernel_size=(3, 1), stride=(1, 1), padding=(1, 0), bias=False)\n",
            "      (bn): BatchNorm2d(384, eps=0.001, momentum=0.1, affine=True, track_running_stats=True)\n",
            "    )\n",
            "    (branch_pool): BasicConv2d(\n",
            "      (conv): Conv2d(2048, 192, kernel_size=(1, 1), stride=(1, 1), bias=False)\n",
            "      (bn): BatchNorm2d(192, eps=0.001, momentum=0.1, affine=True, track_running_stats=True)\n",
            "    )\n",
            "  )\n",
            "  (fc): Linear(in_features=2048, out_features=1000, bias=True)\n",
            ")\n"
          ],
          "name": "stdout"
        }
      ]
    },
    {
      "cell_type": "code",
      "metadata": {
        "id": "qbwwBO3dj6uK",
        "colab_type": "code",
        "colab": {}
      },
      "source": [
        "for param in inception.parameters():\n",
        "  param.requires_grad = False"
      ],
      "execution_count": 0,
      "outputs": []
    },
    {
      "cell_type": "code",
      "metadata": {
        "id": "KUNw_f5qlbEf",
        "colab_type": "code",
        "colab": {}
      },
      "source": [
        "aux_in_features = inception.AuxLogits.fc.in_features\n",
        "inception.AuxLogits.fc = nn.Linear(aux_in_features, num_classes)"
      ],
      "execution_count": 0,
      "outputs": []
    },
    {
      "cell_type": "code",
      "metadata": {
        "id": "y6LIiSTylrS1",
        "colab_type": "code",
        "outputId": "6474da96-c4a1-4156-8fb2-dbb240f90211",
        "colab": {
          "base_uri": "https://localhost:8080/",
          "height": 52
        }
      },
      "source": [
        "for params in inception.parameters():\n",
        "  if params.requires_grad:\n",
        "    print(params.shape)"
      ],
      "execution_count": 0,
      "outputs": [
        {
          "output_type": "stream",
          "text": [
            "torch.Size([10, 768])\n",
            "torch.Size([10])\n"
          ],
          "name": "stdout"
        }
      ]
    },
    {
      "cell_type": "code",
      "metadata": {
        "id": "GylErcqllzGM",
        "colab_type": "code",
        "colab": {}
      },
      "source": [
        "in_features = inception.fc.in_features\n",
        "inception.fc = nn.Linear(in_features, num_classes)"
      ],
      "execution_count": 0,
      "outputs": []
    },
    {
      "cell_type": "code",
      "metadata": {
        "id": "fmWpxoxEmEN1",
        "colab_type": "code",
        "outputId": "ff331abf-5947-470c-eaec-128111c408f8",
        "colab": {
          "base_uri": "https://localhost:8080/",
          "height": 86
        }
      },
      "source": [
        "for params in inception.parameters():\n",
        "  if params.requires_grad:\n",
        "    print(params.shape)"
      ],
      "execution_count": 0,
      "outputs": [
        {
          "output_type": "stream",
          "text": [
            "torch.Size([10, 768])\n",
            "torch.Size([10])\n",
            "torch.Size([10, 2048])\n",
            "torch.Size([10])\n"
          ],
          "name": "stdout"
        }
      ]
    },
    {
      "cell_type": "code",
      "metadata": {
        "id": "ls6xkwlXmHy6",
        "colab_type": "code",
        "colab": {}
      },
      "source": [
        "transform_train = transforms.Compose([\n",
        "    transforms.RandomResizedCrop(299), \n",
        "    transforms.ToTensor(),\n",
        "    transforms.Normalize((0.5, 0.5, 0.5), (0.5, 0.5, 0.5)),\n",
        "    ])\n",
        "\n",
        "transform_test = transforms.Compose([\n",
        "    transforms.RandomResizedCrop(299), \n",
        "    transforms.ToTensor(),\n",
        "    transforms.Normalize((0.5, 0.5, 0.5), (0.5, 0.5, 0.5)),\n",
        "    ])"
      ],
      "execution_count": 0,
      "outputs": []
    },
    {
      "cell_type": "code",
      "metadata": {
        "id": "NEC0VOXtmUYS",
        "colab_type": "code",
        "outputId": "2151a5c2-e6e2-4f9c-a5c0-bb8cecfa1d70",
        "colab": {
          "base_uri": "https://localhost:8080/",
          "height": 52
        }
      },
      "source": [
        "trainset = torchvision.datasets.CIFAR10(root='./data', train=True, \n",
        "                                        download=True, \n",
        "                                        transform=transform_train)\n",
        "testset = torchvision.datasets.CIFAR10(root='./data', train=False, \n",
        "                                        download=True, \n",
        "                                        transform=transform_test)"
      ],
      "execution_count": 0,
      "outputs": [
        {
          "output_type": "stream",
          "text": [
            "Files already downloaded and verified\n",
            "Files already downloaded and verified\n"
          ],
          "name": "stdout"
        }
      ]
    },
    {
      "cell_type": "code",
      "metadata": {
        "id": "de6jWK6BmaH-",
        "colab_type": "code",
        "colab": {}
      },
      "source": [
        "batch_size=16\n",
        "\n",
        "trainloader = torch.utils.data.DataLoader(trainset, batch_size=batch_size, shuffle=True)\n",
        "testloader = torch.utils.data.DataLoader(testset, batch_size=batch_size, shuffle=False)\n"
      ],
      "execution_count": 0,
      "outputs": []
    },
    {
      "cell_type": "code",
      "metadata": {
        "id": "uF7TtYCYm7sD",
        "colab_type": "code",
        "colab": {}
      },
      "source": [
        "inception = inception.to(device)\n",
        "loss_fn = nn.CrossEntropyLoss()\n",
        "opt = optim.SGD(inception.parameters(), lr=0.01)"
      ],
      "execution_count": 0,
      "outputs": []
    },
    {
      "cell_type": "code",
      "metadata": {
        "id": "feEKb2ajnJgx",
        "colab_type": "code",
        "colab": {}
      },
      "source": [
        "def evaluation_inception(dataloader, model):\n",
        "    total, correct = 0, 0\n",
        "    for data in dataloader:\n",
        "        inputs, labels = data\n",
        "        inputs, labels = inputs.to(device), labels.to(device)\n",
        "        outputs, aux_outputs = model(inputs)\n",
        "        _, pred = torch.max(outputs.data, 1)\n",
        "        total += labels.size(0)\n",
        "        correct += (pred == labels).sum().item()\n",
        "    return 100 * correct / total"
      ],
      "execution_count": 0,
      "outputs": []
    },
    {
      "cell_type": "code",
      "metadata": {
        "id": "roEw4YRBnvAW",
        "colab_type": "code",
        "outputId": "8726bedb-5871-431e-9a7f-063a5d5dc824",
        "colab": {
          "base_uri": "https://localhost:8080/",
          "height": 1461
        }
      },
      "source": [
        "loss_epoch_err = []\n",
        "max_epochs = 1\n",
        "\n",
        "min_loss =1000\n",
        "\n",
        "n_iters = np.ceil(50000/batch_size)\n",
        "\n",
        "for epoch in range(max_epochs):\n",
        "  \n",
        "  for i, data in enumerate(trainloader, 0):\n",
        "    \n",
        "    inputs, labels = data\n",
        "    inputs, labels = inputs.to(device), labels.to(device)\n",
        "    \n",
        "    opt.zero_grad()\n",
        "    \n",
        "    outputs, aux_outputs = inception(inputs)\n",
        "    loss = loss_fn(outputs, labels) + 0.3 * loss_fn(aux_outputs, labels)\n",
        "    loss.backward()\n",
        "    opt.step()\n",
        "    \n",
        "    if min_loss > loss.item():\n",
        "      min_loss = loss.item()\n",
        "      best_model = copy.deepcopy(inception.state_dict())\n",
        "      print('min_loss: %0.2f' % min_loss)\n",
        "      \n",
        "    if i % 100 == 0:\n",
        "      print('Iteration:%d/%d, loss:%0.2f' %(i, n_iters, loss.item()))\n",
        "      \n",
        "    del inputs, outputs, labels\n",
        "    torch.cuda.empty_cache()\n",
        "    \n",
        "  loss_epoch_err.append(loss.item())\n",
        "  \n",
        "  print('Epoch:%d/%d, train_acc:%0.2f, test_acc:%0.2f' %(epoch, \n",
        "                                                        max_epochs, \n",
        "                                                        evaluation(trainloader, inception),\n",
        "                                                        evaluation(testloader, inception)))\n",
        "\n",
        "plt.plot(loss_epoch_err)\n",
        "plt.show()"
      ],
      "execution_count": 0,
      "outputs": [
        {
          "output_type": "stream",
          "text": [
            "min_loss: 3.05\n",
            "Iteration:0/3125, loss:3.05\n",
            "min_loss: 3.02\n",
            "min_loss: 2.99\n",
            "min_loss: 2.95\n",
            "min_loss: 2.88\n",
            "min_loss: 2.79\n",
            "min_loss: 2.77\n",
            "min_loss: 2.75\n",
            "min_loss: 2.59\n",
            "min_loss: 2.58\n",
            "Iteration:100/3125, loss:2.69\n",
            "min_loss: 2.37\n",
            "min_loss: 2.29\n",
            "min_loss: 2.25\n",
            "Iteration:200/3125, loss:2.64\n",
            "min_loss: 2.03\n",
            "Iteration:300/3125, loss:2.09\n",
            "min_loss: 2.01\n",
            "min_loss: 1.98\n",
            "min_loss: 1.97\n",
            "min_loss: 1.86\n",
            "Iteration:400/3125, loss:2.26\n",
            "Iteration:500/3125, loss:2.14\n",
            "min_loss: 1.84\n",
            "min_loss: 1.71\n",
            "Iteration:600/3125, loss:2.11\n",
            "min_loss: 1.69\n",
            "Iteration:700/3125, loss:2.37\n",
            "min_loss: 1.65\n",
            "Iteration:800/3125, loss:1.94\n",
            "min_loss: 1.58\n",
            "min_loss: 1.56\n",
            "min_loss: 1.50\n",
            "Iteration:900/3125, loss:2.40\n",
            "Iteration:1000/3125, loss:2.41\n",
            "min_loss: 1.45\n",
            "min_loss: 1.37\n",
            "Iteration:1100/3125, loss:1.89\n",
            "Iteration:1200/3125, loss:2.16\n",
            "min_loss: 1.32\n",
            "min_loss: 1.29\n",
            "Iteration:1300/3125, loss:2.18\n",
            "Iteration:1400/3125, loss:1.57\n",
            "min_loss: 1.19\n",
            "Iteration:1500/3125, loss:1.71\n",
            "Iteration:1600/3125, loss:2.04\n",
            "Iteration:1700/3125, loss:1.97\n",
            "Iteration:1800/3125, loss:1.79\n",
            "min_loss: 1.16\n",
            "Iteration:1900/3125, loss:1.80\n",
            "Iteration:2000/3125, loss:2.05\n",
            "Iteration:2100/3125, loss:2.01\n",
            "Iteration:2200/3125, loss:2.13\n",
            "min_loss: 0.80\n",
            "Iteration:2300/3125, loss:1.96\n",
            "Iteration:2400/3125, loss:1.73\n",
            "Iteration:2500/3125, loss:2.09\n",
            "Iteration:2600/3125, loss:1.98\n",
            "Iteration:2700/3125, loss:2.12\n",
            "Iteration:2800/3125, loss:2.13\n",
            "Iteration:2900/3125, loss:2.05\n",
            "Iteration:3000/3125, loss:2.18\n",
            "Iteration:3100/3125, loss:1.66\n"
          ],
          "name": "stdout"
        },
        {
          "output_type": "error",
          "ename": "AttributeError",
          "evalue": "ignored",
          "traceback": [
            "\u001b[0;31m---------------------------------------------------------------------------\u001b[0m",
            "\u001b[0;31mAttributeError\u001b[0m                            Traceback (most recent call last)",
            "\u001b[0;32m<ipython-input-76-434d9b843d37>\u001b[0m in \u001b[0;36m<module>\u001b[0;34m()\u001b[0m\n\u001b[1;32m     35\u001b[0m   print('Epoch:%d/%d, train_acc:%0.2f, test_acc:%0.2f' %(epoch, \n\u001b[1;32m     36\u001b[0m                                                         \u001b[0mmax_epochs\u001b[0m\u001b[0;34m,\u001b[0m\u001b[0;34m\u001b[0m\u001b[0;34m\u001b[0m\u001b[0m\n\u001b[0;32m---> 37\u001b[0;31m                                                         \u001b[0mevaluation\u001b[0m\u001b[0;34m(\u001b[0m\u001b[0mtrainloader\u001b[0m\u001b[0;34m,\u001b[0m \u001b[0minception\u001b[0m\u001b[0;34m)\u001b[0m\u001b[0;34m,\u001b[0m\u001b[0;34m\u001b[0m\u001b[0;34m\u001b[0m\u001b[0m\n\u001b[0m\u001b[1;32m     38\u001b[0m                                                         evaluation(testloader, inception)))\n\u001b[1;32m     39\u001b[0m \u001b[0;34m\u001b[0m\u001b[0m\n",
            "\u001b[0;32m<ipython-input-20-2fe8b6b1baae>\u001b[0m in \u001b[0;36mevaluation\u001b[0;34m(dataloader, model)\u001b[0m\n\u001b[1;32m      5\u001b[0m     \u001b[0minputs\u001b[0m\u001b[0;34m,\u001b[0m \u001b[0mlabels\u001b[0m \u001b[0;34m=\u001b[0m \u001b[0minputs\u001b[0m\u001b[0;34m.\u001b[0m\u001b[0mto\u001b[0m\u001b[0;34m(\u001b[0m\u001b[0mdevice\u001b[0m\u001b[0;34m)\u001b[0m\u001b[0;34m,\u001b[0m \u001b[0mlabels\u001b[0m\u001b[0;34m.\u001b[0m\u001b[0mto\u001b[0m\u001b[0;34m(\u001b[0m\u001b[0mdevice\u001b[0m\u001b[0;34m)\u001b[0m\u001b[0;34m\u001b[0m\u001b[0;34m\u001b[0m\u001b[0m\n\u001b[1;32m      6\u001b[0m     \u001b[0moutputs\u001b[0m \u001b[0;34m=\u001b[0m \u001b[0mmodel\u001b[0m\u001b[0;34m(\u001b[0m\u001b[0minputs\u001b[0m\u001b[0;34m)\u001b[0m\u001b[0;34m\u001b[0m\u001b[0;34m\u001b[0m\u001b[0m\n\u001b[0;32m----> 7\u001b[0;31m     \u001b[0m_\u001b[0m\u001b[0;34m,\u001b[0m \u001b[0mpred\u001b[0m \u001b[0;34m=\u001b[0m \u001b[0mtorch\u001b[0m\u001b[0;34m.\u001b[0m\u001b[0mmax\u001b[0m\u001b[0;34m(\u001b[0m\u001b[0moutputs\u001b[0m\u001b[0;34m.\u001b[0m\u001b[0mdata\u001b[0m\u001b[0;34m,\u001b[0m \u001b[0;36m1\u001b[0m\u001b[0;34m)\u001b[0m\u001b[0;34m\u001b[0m\u001b[0;34m\u001b[0m\u001b[0m\n\u001b[0m\u001b[1;32m      8\u001b[0m     \u001b[0mtotal\u001b[0m \u001b[0;34m+=\u001b[0m\u001b[0mlabels\u001b[0m\u001b[0;34m.\u001b[0m\u001b[0msize\u001b[0m\u001b[0;34m(\u001b[0m\u001b[0;36m0\u001b[0m\u001b[0;34m)\u001b[0m\u001b[0;34m\u001b[0m\u001b[0;34m\u001b[0m\u001b[0m\n\u001b[1;32m      9\u001b[0m     \u001b[0mcorrect\u001b[0m \u001b[0;34m+=\u001b[0m \u001b[0;34m(\u001b[0m\u001b[0mpred\u001b[0m \u001b[0;34m==\u001b[0m \u001b[0mlabels\u001b[0m\u001b[0;34m)\u001b[0m\u001b[0;34m.\u001b[0m\u001b[0msum\u001b[0m\u001b[0;34m(\u001b[0m\u001b[0;34m)\u001b[0m\u001b[0;34m.\u001b[0m\u001b[0mitem\u001b[0m\u001b[0;34m(\u001b[0m\u001b[0;34m)\u001b[0m\u001b[0;34m\u001b[0m\u001b[0;34m\u001b[0m\u001b[0m\n",
            "\u001b[0;31mAttributeError\u001b[0m: 'tuple' object has no attribute 'data'"
          ]
        }
      ]
    },
    {
      "cell_type": "code",
      "metadata": {
        "id": "o432OQijowN4",
        "colab_type": "code",
        "colab": {}
      },
      "source": [
        "inception.load_state_dict(best_model)\n",
        "print(evaluation(trainloader,resnet), evaluation(testloader,resnet))"
      ],
      "execution_count": 0,
      "outputs": []
    },
    {
      "cell_type": "code",
      "metadata": {
        "id": "GFM6kVN3sGJF",
        "colab_type": "code",
        "colab": {}
      },
      "source": [
        ""
      ],
      "execution_count": 0,
      "outputs": []
    }
  ]
}